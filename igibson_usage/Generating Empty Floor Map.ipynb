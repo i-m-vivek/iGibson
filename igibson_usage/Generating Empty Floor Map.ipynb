{
 "cells": [
  {
   "cell_type": "code",
   "execution_count": 9,
   "id": "4fd0390f",
   "metadata": {},
   "outputs": [],
   "source": [
    "from PIL import Image\n",
    "import numpy as np"
   ]
  },
  {
   "cell_type": "code",
   "execution_count": 5,
   "id": "f28c5609",
   "metadata": {},
   "outputs": [],
   "source": [
    "floor = Image.open(\"../gibson2/data/g_dataset/TableTop/floor_0.png\")"
   ]
  },
  {
   "cell_type": "code",
   "execution_count": 6,
   "id": "acf0070e",
   "metadata": {},
   "outputs": [],
   "source": [
    "floor_trav = Image.open(\"../gibson2/data/g_dataset/TableTop/floor_trav_0.png\")"
   ]
  },
  {
   "cell_type": "code",
   "execution_count": 11,
   "id": "5211eca0",
   "metadata": {},
   "outputs": [
    {
     "data": {
      "text/plain": [
       "(600, 600)"
      ]
     },
     "execution_count": 11,
     "metadata": {},
     "output_type": "execute_result"
    }
   ],
   "source": [
    "np.array(floor).shape"
   ]
  },
  {
   "cell_type": "code",
   "execution_count": 13,
   "id": "5d63110e",
   "metadata": {},
   "outputs": [
    {
     "data": {
      "text/plain": [
       "dtype('uint8')"
      ]
     },
     "execution_count": 13,
     "metadata": {},
     "output_type": "execute_result"
    }
   ],
   "source": [
    "np.array(floor_trav).dtype"
   ]
  },
  {
   "cell_type": "code",
   "execution_count": 17,
   "id": "b6f704eb",
   "metadata": {},
   "outputs": [],
   "source": [
    "img = Image.fromarray(np.ones((600, 600), dtype=np.uint8)*255)"
   ]
  },
  {
   "cell_type": "code",
   "execution_count": 19,
   "id": "9537dee4",
   "metadata": {},
   "outputs": [],
   "source": [
    "img.save(\"../gibson2/data/g_dataset/Stadium/floor_trav_0.png\")"
   ]
  },
  {
   "cell_type": "code",
   "execution_count": null,
   "id": "8302921b",
   "metadata": {},
   "outputs": [],
   "source": []
  }
 ],
 "metadata": {
  "kernelspec": {
   "display_name": "Python 3",
   "language": "python",
   "name": "python3"
  },
  "language_info": {
   "codemirror_mode": {
    "name": "ipython",
    "version": 3
   },
   "file_extension": ".py",
   "mimetype": "text/x-python",
   "name": "python",
   "nbconvert_exporter": "python",
   "pygments_lexer": "ipython3",
   "version": "3.8.5"
  }
 },
 "nbformat": 4,
 "nbformat_minor": 5
}
