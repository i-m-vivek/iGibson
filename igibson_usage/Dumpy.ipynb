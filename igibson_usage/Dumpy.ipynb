{
 "cells": [
  {
   "cell_type": "code",
   "execution_count": 1,
   "id": "871aea35",
   "metadata": {},
   "outputs": [
    {
     "name": "stderr",
     "output_type": "stream",
     "text": [
      "INFO:root:Importing iGibson (gibson2 module)\n",
      "INFO:root:Assets path: /home/vkmittal14/WORKSPACE/TUD/vk_igibson/iGibson/gibson2/data/assets\n",
      "INFO:root:Gibson Dataset path: /home/vkmittal14/WORKSPACE/TUD/vk_igibson/iGibson/gibson2/data/g_dataset\n",
      "INFO:root:iG Dataset path: /home/vkmittal14/WORKSPACE/TUD/vk_igibson/iGibson/gibson2/data/ig_dataset\n",
      "INFO:root:3D-FRONT Dataset path: /home/vkmittal14/WORKSPACE/TUD/vk_igibson/iGibson/gibson2/data/threedfront_dataset\n",
      "INFO:root:CubiCasa5K Dataset path: /home/vkmittal14/WORKSPACE/TUD/vk_igibson/iGibson/gibson2/data/cubicasa_dataset\n",
      "INFO:root:Example path: /home/vkmittal14/WORKSPACE/TUD/vk_igibson/iGibson/gibson2/examples\n",
      "INFO:root:Example config path: /home/vkmittal14/WORKSPACE/TUD/vk_igibson/iGibson/gibson2/examples/configs\n"
     ]
    }
   ],
   "source": [
    "from hrl4in.utils.utils import *\n",
    "from gibson2.utils.utils import rotate_vector_3d\n",
    "import numpy as np "
   ]
  },
  {
   "cell_type": "code",
   "execution_count": 2,
   "id": "e8fe67a0",
   "metadata": {},
   "outputs": [],
   "source": [
    "vector =  torch.tensor([1.22,2.5,0.6])"
   ]
  },
  {
   "cell_type": "code",
   "execution_count": 3,
   "id": "35a2ad89",
   "metadata": {},
   "outputs": [],
   "source": [
    "vectort = vector.view(1, -1)"
   ]
  },
  {
   "cell_type": "code",
   "execution_count": 4,
   "id": "cd5d7430",
   "metadata": {},
   "outputs": [],
   "source": [
    "r, p, y = 1.5,1.2,1.0"
   ]
  },
  {
   "cell_type": "code",
   "execution_count": 5,
   "id": "14620bee",
   "metadata": {},
   "outputs": [],
   "source": [
    "rt = torch.tensor(1.5).view(1, -1)*np.pi\n",
    "pt = torch.tensor(1.2).view(1, -1)*np.pi\n",
    "yt = torch.tensor(1.0).view(1, -1)*np.pi"
   ]
  },
  {
   "cell_type": "code",
   "execution_count": 6,
   "id": "a7d8e3d5",
   "metadata": {},
   "outputs": [
    {
     "data": {
      "text/plain": [
       "tensor([[1.2200, 2.5000, 0.6000]])"
      ]
     },
     "execution_count": 6,
     "metadata": {},
     "output_type": "execute_result"
    }
   ],
   "source": [
    "vectort"
   ]
  },
  {
   "cell_type": "code",
   "execution_count": 7,
   "id": "41a967cd",
   "metadata": {},
   "outputs": [
    {
     "data": {
      "text/plain": [
       "array([ 0.4419153 ,  2.80843041, -0.1258158 ])"
      ]
     },
     "execution_count": 7,
     "metadata": {},
     "output_type": "execute_result"
    }
   ],
   "source": [
    "rotate_vector_3d(vector, r, p, y)"
   ]
  },
  {
   "cell_type": "code",
   "execution_count": 8,
   "id": "692a069c",
   "metadata": {},
   "outputs": [
    {
     "data": {
      "text/plain": [
       "tensor([[-0.4825,  0.6000, -2.7396]])"
      ]
     },
     "execution_count": 8,
     "metadata": {},
     "output_type": "execute_result"
    }
   ],
   "source": [
    "rotate_torch_vector(vectort, rt, pt, yt)"
   ]
  },
  {
   "cell_type": "code",
   "execution_count": null,
   "id": "05b890a5",
   "metadata": {},
   "outputs": [],
   "source": []
  }
 ],
 "metadata": {
  "kernelspec": {
   "display_name": "Python 3",
   "language": "python",
   "name": "python3"
  },
  "language_info": {
   "codemirror_mode": {
    "name": "ipython",
    "version": 3
   },
   "file_extension": ".py",
   "mimetype": "text/x-python",
   "name": "python",
   "nbconvert_exporter": "python",
   "pygments_lexer": "ipython3",
   "version": "3.7.10"
  }
 },
 "nbformat": 4,
 "nbformat_minor": 5
}
