{
 "cells": [
  {
   "cell_type": "code",
   "execution_count": 1,
   "id": "d90edd53",
   "metadata": {},
   "outputs": [],
   "source": [
    "from PIL import Image\n",
    "import numpy as np"
   ]
  },
  {
   "cell_type": "code",
   "execution_count": 2,
   "id": "4972aa64",
   "metadata": {},
   "outputs": [],
   "source": [
    "trav_map = np.array(Image.open(\"../floor_tabletop.png\"))\n",
    "new = np.ones_like(trav_map)\n",
    "new= new * 255 "
   ]
  },
  {
   "cell_type": "code",
   "execution_count": 3,
   "id": "bae4e16b",
   "metadata": {},
   "outputs": [],
   "source": [
    "for i in range(600):\n",
    "    flag = False\n",
    "    for j in range(600):\n",
    "        \n",
    "#         if flag == True and trav_map[i, j] == 0:\n",
    "#             print(\"DONE\")\n",
    "#             flag = False\n",
    "#             new[i, j] = 0\n",
    "        \n",
    "        if trav_map[i, j] == 0:\n",
    "            flag = True \n",
    "            new[i, j] = 0\n",
    "        \n",
    "        elif flag: \n",
    "            new[i, j] = 0"
   ]
  },
  {
   "cell_type": "code",
   "execution_count": 4,
   "id": "a5539de0",
   "metadata": {},
   "outputs": [],
   "source": [
    "for i in range(600):\n",
    "    for j in range(599, -1, -1):\n",
    "        if trav_map[i, j] == 255:\n",
    "            new[i, j] = 255\n",
    "        else:\n",
    "            break\n",
    "#     print(j)"
   ]
  },
  {
   "cell_type": "code",
   "execution_count": 5,
   "id": "5546a084",
   "metadata": {},
   "outputs": [],
   "source": [
    "im = Image.fromarray(new)"
   ]
  },
  {
   "cell_type": "code",
   "execution_count": 6,
   "id": "58fd4afc",
   "metadata": {},
   "outputs": [
    {
     "data": {
      "image/png": "[encoded data removed]",
      "text/plain": [
       "<PIL.Image.Image image mode=L size=600x600 at 0x7F9AE1BBB510>"
      ]
     },
     "execution_count": 6,
     "metadata": {},
     "output_type": "execute_result"
    }
   ],
   "source": [
    "im"
   ]
  },
  {
   "cell_type": "code",
   "execution_count": 7,
   "id": "1d379989",
   "metadata": {},
   "outputs": [],
   "source": [
    "im.save(\"floor_tabletop_0.png\")"
   ]
  },
  {
   "cell_type": "code",
   "execution_count": null,
   "id": "536b4e6a",
   "metadata": {},
   "outputs": [],
   "source": []
  }
 ],
 "metadata": {
  "kernelspec": {
   "display_name": "Python 3",
   "language": "python",
   "name": "python3"
  },
  "language_info": {
   "codemirror_mode": {
    "name": "ipython",
    "version": 3
   },
   "file_extension": ".py",
   "mimetype": "text/x-python",
   "name": "python",
   "nbconvert_exporter": "python",
   "pygments_lexer": "ipython3",
   "version": "3.7.10"
  }
 },
 "nbformat": 4,
 "nbformat_minor": 5
}
