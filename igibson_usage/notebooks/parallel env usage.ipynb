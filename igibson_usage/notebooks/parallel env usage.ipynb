{
 "cells": [
  {
   "cell_type": "code",
   "execution_count": 1,
   "id": "006b9c86",
   "metadata": {},
   "outputs": [
    {
     "name": "stderr",
     "output_type": "stream",
     "text": [
      "INFO:root:Importing iGibson (gibson2 module)\n",
      "INFO:root:Assets path: /home/vkmittal14/WORKSPACE/TUD/vk_igibson/iGibson/gibson2/data/assets\n",
      "INFO:root:Gibson Dataset path: /home/vkmittal14/WORKSPACE/TUD/vk_igibson/iGibson/gibson2/data/g_dataset\n",
      "INFO:root:iG Dataset path: /home/vkmittal14/WORKSPACE/TUD/vk_igibson/iGibson/gibson2/data/ig_dataset\n",
      "INFO:root:3D-FRONT Dataset path: /home/vkmittal14/WORKSPACE/TUD/vk_igibson/iGibson/gibson2/data/threedfront_dataset\n",
      "INFO:root:CubiCasa5K Dataset path: /home/vkmittal14/WORKSPACE/TUD/vk_igibson/iGibson/gibson2/data/cubicasa_dataset\n",
      "INFO:root:Example path: /home/vkmittal14/WORKSPACE/TUD/vk_igibson/iGibson/gibson2/examples\n",
      "INFO:root:Example config path: /home/vkmittal14/WORKSPACE/TUD/vk_igibson/iGibson/gibson2/examples/configs\n"
     ]
    }
   ],
   "source": [
    "import torch \n",
    "import gibson2 \n",
    "import numpy as np\n",
    "from gibson2.envs.igibson_env import iGibsonEnv\n",
    "from gibson2.envs.parallel_env import ParallelNavEnv"
   ]
  },
  {
   "cell_type": "code",
   "execution_count": 2,
   "id": "dcd8b5d3",
   "metadata": {},
   "outputs": [],
   "source": [
    "def load_env(env_mode, device_idx):\n",
    "    return iGibsonEnv(\n",
    "    config_file= \"../configs/tiago_stadium_point_nav_random.yaml\", \n",
    "    mode = \"headless\", \n",
    "    action_timestep=1.0/10.0, \n",
    "    physics_timestep=1.0/40.0,\n",
    "    automatic_reset= True, \n",
    "    device_idx= device_idx)"
   ]
  },
  {
   "cell_type": "code",
   "execution_count": 3,
   "id": "8487133e",
   "metadata": {},
   "outputs": [
    {
     "name": "stderr",
     "output_type": "stream",
     "text": [
      "/home/vkmittal14/miniconda3/envs/vk-igibson/lib/python3.7/site-packages/ipykernel_launcher.py:6: DeprecationWarning: `np.int` is a deprecated alias for the builtin `int`. To silence this warning, use `int` by itself. Doing this will not modify any behavior and is safe. When replacing `np.int`, you may wish to use e.g. `np.int64` or `np.int32` to specify the precision. If you wish to review your current use, check the release note link for additional information.\n",
      "Deprecated in NumPy 1.20; for more details and guidance: https://numpy.org/devdocs/release/1.20.0-notes.html#deprecations\n",
      "  \n"
     ]
    }
   ],
   "source": [
    "sim_gpu_id = [0]\n",
    "env_id_to_which_gpu = np.linspace(\n",
    "        0,\n",
    "        len(sim_gpu_id),\n",
    "        num=2,\n",
    "        dtype=np.int,\n",
    "        endpoint=False,\n",
    "    )"
   ]
  },
  {
   "cell_type": "code",
   "execution_count": 4,
   "id": "4c364c18",
   "metadata": {},
   "outputs": [
    {
     "data": {
      "text/plain": [
       "array([0, 0])"
      ]
     },
     "execution_count": 4,
     "metadata": {},
     "output_type": "execute_result"
    }
   ],
   "source": [
    "env_id_to_which_gpu"
   ]
  },
  {
   "cell_type": "code",
   "execution_count": 5,
   "id": "4c57dd43",
   "metadata": {},
   "outputs": [],
   "source": [
    "train_envs = [\n",
    "        lambda device_idx=sim_gpu_id[env_id_to_which_gpu[env_id]]: load_env(\n",
    "            \"headless\", device_idx\n",
    "        )\n",
    "        for env_id in range(1)\n",
    "    ]"
   ]
  },
  {
   "cell_type": "code",
   "execution_count": 6,
   "id": "98358461",
   "metadata": {
    "scrolled": true
   },
   "outputs": [
    {
     "name": "stdout",
     "output_type": "stream",
     "text": [
      "{'build_graph': False,\n",
      " 'collision_ignore_link_a_ids': [1, 2, 3, 4],\n",
      " 'collision_reward_weight': 0,\n",
      " 'depth_high': 3.0,\n",
      " 'depth_low': 0.35,\n",
      " 'depth_noise_rate': 0.0,\n",
      " 'discount_factor': 0.99,\n",
      " 'dist_tol': 0.5,\n",
      " 'fisheye': False,\n",
      " 'goal_format': 'polar',\n",
      " 'image_height': 128,\n",
      " 'image_width': 128,\n",
      " 'initial_pos_z_offset': 0.1,\n",
      " 'intial_robot_pos': [0, 0, 0],\n",
      " 'is_discrete': False,\n",
      " 'laser_angular_range': 240.0,\n",
      " 'laser_linear_range': 5.6,\n",
      " 'laser_link_name': 'rgbd_laser_link',\n",
      " 'load_texture': True,\n",
      " 'max_collisions_allowed': 500,\n",
      " 'max_step': 1000,\n",
      " 'min_laser_dist': 0.05,\n",
      " 'n_horizontal_rays': 228,\n",
      " 'n_vertical_beams': 1,\n",
      " 'object_randomization_freq': None,\n",
      " 'output': ['task_obs'],\n",
      " 'potential_reward_weight': 1.0,\n",
      " 'pybullet_load_texture': True,\n",
      " 'reward_type': 'l2',\n",
      " 'robot': 'Tiago_Single',\n",
      " 'scan_noise_rate': 0.0,\n",
      " 'scene': 'stadium',\n",
      " 'success_reward': 10.0,\n",
      " 'target_dist_max': 5.0,\n",
      " 'target_dist_min': 1.0,\n",
      " 'target_visual_object_visible_to_agent': False,\n",
      " 'task': 'point_nav_random',\n",
      " 'task_obs_dim': 12,\n",
      " 'texture_randomization_freq': None,\n",
      " 'trav_map_erosion': 2,\n",
      " 'trav_map_resolution': 0.1,\n",
      " 'trav_map_type': 'no_obj',\n",
      " 'velocity': 1.0,\n",
      " 'vertical_fov': 90,\n",
      " 'visual_marker': 'sphere',\n",
      " 'visual_object_at_initial_target_pos': True}\n"
     ]
    },
    {
     "name": "stderr",
     "output_type": "stream",
     "text": [
      "INFO:root:Device 0 is available for rendering\n",
      "INFO:root:Command '['/home/vkmittal14/WORKSPACE/TUD/vk_igibson/iGibson/gibson2/render/mesh_renderer/build/test_device', '1']' returned non-zero exit status 1.\n",
      "INFO:root:Device 1 is not available for rendering\n",
      "INFO:root:Using device 0 for rendering\n"
     ]
    },
    {
     "name": "stdout",
     "output_type": "stream",
     "text": [
      "******************PyBullet Logging Information:\n",
      "PyBullet Logging Information******************\n"
     ]
    },
    {
     "name": "stderr",
     "output_type": "stream",
     "text": [
      "INFO:root:Loading /home/vkmittal14/miniconda3/envs/vk-igibson/lib/python3.7/site-packages/pybullet_data/roboschool/models_outdoor/stadium/part0.obj\n",
      "INFO:root:Loading /home/vkmittal14/miniconda3/envs/vk-igibson/lib/python3.7/site-packages/pybullet_data/roboschool/models_outdoor/stadium/part1.obj\n",
      "INFO:root:Loading /home/vkmittal14/miniconda3/envs/vk-igibson/lib/python3.7/site-packages/pybullet_data/roboschool/models_outdoor/stadium/part2.obj\n",
      "INFO:root:Loading robot model file: tiago/tiago_single.urdf\n",
      "INFO:root:Loading /home/vkmittal14/WORKSPACE/TUD/vk_igibson/iGibson/gibson2/data/assets/models/tiago/pmb2_description/meshes/base/base.stl\n",
      "INFO:root:Loading /home/vkmittal14/WORKSPACE/TUD/vk_igibson/iGibson/gibson2/data/assets/models/tiago/pmb2_description/meshes/sensors/sick_tim551.stl\n",
      "INFO:root:Loading /home/vkmittal14/WORKSPACE/TUD/vk_igibson/iGibson/gibson2/data/assets/models/tiago/pmb2_description/meshes/sensors/srf05.stl\n",
      "INFO:root:Loading /home/vkmittal14/WORKSPACE/TUD/vk_igibson/iGibson/gibson2/data/assets/models/tiago/pmb2_description/meshes/objects/antenna.stl\n",
      "INFO:root:Loading /home/vkmittal14/WORKSPACE/TUD/vk_igibson/iGibson/gibson2/data/assets/models/tiago/pmb2_description/meshes/wheels/wheel.stl\n",
      "INFO:root:Loading /home/vkmittal14/WORKSPACE/TUD/vk_igibson/iGibson/gibson2/data/assets/models/tiago/pmb2_description/meshes/wheels/wheel.stl\n",
      "INFO:root:Loading /home/vkmittal14/WORKSPACE/TUD/vk_igibson/iGibson/gibson2/data/assets/models/tiago/pmb2_description/meshes/wheels/caster_1.stl\n",
      "INFO:root:Loading /home/vkmittal14/WORKSPACE/TUD/vk_igibson/iGibson/gibson2/data/assets/models/tiago/pmb2_description/meshes/wheels/caster_2.stl\n",
      "INFO:root:Loading /home/vkmittal14/WORKSPACE/TUD/vk_igibson/iGibson/gibson2/data/assets/models/tiago/tiago_description/meshes/torso/torso_fix.stl\n",
      "INFO:root:Loading /home/vkmittal14/WORKSPACE/TUD/vk_igibson/iGibson/gibson2/data/assets/models/tiago/tiago_description/meshes/torso/torso_lift_with_arm.stl\n",
      "INFO:root:Loading /home/vkmittal14/WORKSPACE/TUD/vk_igibson/iGibson/gibson2/data/assets/models/tiago/tiago_description/meshes/head/head_1.stl\n",
      "INFO:root:Loading /home/vkmittal14/WORKSPACE/TUD/vk_igibson/iGibson/gibson2/data/assets/models/tiago/tiago_description/meshes/head/head_2.stl\n",
      "INFO:root:Loading /home/vkmittal14/WORKSPACE/TUD/vk_igibson/iGibson/gibson2/data/assets/models/tiago/tiago_description/meshes/arm/arm_1.stl\n",
      "INFO:root:Loading /home/vkmittal14/WORKSPACE/TUD/vk_igibson/iGibson/gibson2/data/assets/models/tiago/tiago_description/meshes/arm/arm_2.stl\n",
      "INFO:root:Loading /home/vkmittal14/WORKSPACE/TUD/vk_igibson/iGibson/gibson2/data/assets/models/tiago/tiago_description/meshes/arm/arm_3.stl\n",
      "INFO:root:Loading /home/vkmittal14/WORKSPACE/TUD/vk_igibson/iGibson/gibson2/data/assets/models/tiago/tiago_description/meshes/arm/arm_4.stl\n",
      "INFO:root:Loading /home/vkmittal14/WORKSPACE/TUD/vk_igibson/iGibson/gibson2/data/assets/models/tiago/tiago_description/meshes/arm/arm_5-wrist-2017.stl\n",
      "INFO:root:Loading /home/vkmittal14/WORKSPACE/TUD/vk_igibson/iGibson/gibson2/data/assets/models/tiago/tiago_description/meshes/arm/arm_6-wrist-2017.stl\n",
      "INFO:root:Loading /home/vkmittal14/WORKSPACE/TUD/vk_igibson/iGibson/gibson2/data/assets/models/mjcf_primitives/cube.obj\n",
      "INFO:root:Loading /home/vkmittal14/WORKSPACE/TUD/vk_igibson/iGibson/gibson2/data/assets/models/mjcf_primitives/cube.obj\n",
      "INFO:root:Loading /home/vkmittal14/WORKSPACE/TUD/vk_igibson/iGibson/gibson2/data/assets/models/mjcf_primitives/cube.obj\n",
      "INFO:root:Loading /home/vkmittal14/WORKSPACE/TUD/vk_igibson/iGibson/gibson2/data/assets/models/tiago/pal_gripper_description/meshes/gripper_link.stl\n",
      "INFO:root:Loading /home/vkmittal14/WORKSPACE/TUD/vk_igibson/iGibson/gibson2/data/assets/models/tiago/pal_gripper_description/meshes/gripper_finger_link.stl\n",
      "INFO:root:Loading /home/vkmittal14/WORKSPACE/TUD/vk_igibson/iGibson/gibson2/data/assets/models/tiago/pal_gripper_description/meshes/gripper_finger_link.stl\n",
      "INFO:root:Loading /home/vkmittal14/WORKSPACE/TUD/vk_igibson/iGibson/gibson2/data/assets/models/mjcf_primitives/cube.obj\n",
      "INFO:root:Loading /home/vkmittal14/WORKSPACE/TUD/vk_igibson/iGibson/gibson2/data/assets/models/tiago/pmb2_description/meshes/base/base_ring.stl\n",
      "WARNING:root:WARNING: trying to compute the shortest path in StadiumScene (assuming empty space)\n"
     ]
    }
   ],
   "source": [
    "train_envs = ParallelNavEnv(train_envs, blocking=False)"
   ]
  },
  {
   "cell_type": "code",
   "execution_count": 7,
   "id": "c55a83a1",
   "metadata": {},
   "outputs": [
    {
     "data": {
      "text/plain": [
       "[OrderedDict([('task_obs',\n",
       "               array([ 2.28551218e-03, -9.05261869e-04,  9.70173861e-05,  2.92067437e-04,\n",
       "                       6.79189035e-05, -2.30575888e-02,  3.40228957e-05, -2.73100386e-06,\n",
       "                       3.68629528e-01,  4.65641864e+00,  1.06067014e+00,  0.00000000e+00]))])]"
      ]
     },
     "execution_count": 7,
     "metadata": {},
     "output_type": "execute_result"
    }
   ],
   "source": [
    "train_envs.reset()"
   ]
  },
  {
   "cell_type": "code",
   "execution_count": 8,
   "id": "12ea33d4",
   "metadata": {},
   "outputs": [
    {
     "data": {
      "text/plain": [
       "array([0, 0])"
      ]
     },
     "execution_count": 8,
     "metadata": {},
     "output_type": "execute_result"
    }
   ],
   "source": [
    "env_id_to_which_gpu"
   ]
  },
  {
   "cell_type": "code",
   "execution_count": 9,
   "id": "09ac46ba",
   "metadata": {},
   "outputs": [
    {
     "data": {
      "text/plain": [
       "Box(-1.0, 1.0, (14,), float32)"
      ]
     },
     "execution_count": 9,
     "metadata": {},
     "output_type": "execute_result"
    }
   ],
   "source": [
    "train_envs.action_space"
   ]
  },
  {
   "cell_type": "code",
   "execution_count": 10,
   "id": "b49084d8",
   "metadata": {},
   "outputs": [],
   "source": [
    "# train_envs.act()"
   ]
  },
  {
   "cell_type": "code",
   "execution_count": 18,
   "id": "192e95e2",
   "metadata": {},
   "outputs": [],
   "source": [
    "import numpy as np\n",
    "action = np.random.rand(2, 2)"
   ]
  },
  {
   "cell_type": "code",
   "execution_count": 19,
   "id": "9fdc9286",
   "metadata": {},
   "outputs": [
    {
     "ename": "Exception",
     "evalue": "Traceback (most recent call last):\n  File \"/home/vkmittal14/WORKSPACE/TUD/vk_igibson/iGibson/gibson2/envs/parallel_env.py\", line 230, in _worker\n    result = getattr(env, name)(*args, **kwargs)\n  File \"/home/vkmittal14/WORKSPACE/TUD/vk_igibson/iGibson/gibson2/envs/igibson_env.py\", line 303, in step\n    self.robots[0].apply_action(action)\n  File \"/home/vkmittal14/WORKSPACE/TUD/vk_igibson/iGibson/gibson2/robots/robot_locomotor.py\", line 270, in apply_action\n    real_action = self.policy_action_to_robot_action(action)\n  File \"/home/vkmittal14/WORKSPACE/TUD/vk_igibson/iGibson/gibson2/robots/robot_locomotor.py\", line 259, in policy_action_to_robot_action\n    self.action_space.high)\n  File \"<__array_function__ internals>\", line 6, in clip\n  File \"/home/vkmittal14/miniconda3/envs/vk-igibson/lib/python3.7/site-packages/numpy/core/fromnumeric.py\", line 2115, in clip\n    return _wrapfunc(a, 'clip', a_min, a_max, out=out, **kwargs)\n  File \"/home/vkmittal14/miniconda3/envs/vk-igibson/lib/python3.7/site-packages/numpy/core/fromnumeric.py\", line 57, in _wrapfunc\n    return bound(*args, **kwds)\n  File \"/home/vkmittal14/miniconda3/envs/vk-igibson/lib/python3.7/site-packages/numpy/core/_methods.py\", line 160, in _clip\n    um.clip, a, min, max, out=out, casting=casting, **kwargs)\n  File \"/home/vkmittal14/miniconda3/envs/vk-igibson/lib/python3.7/site-packages/numpy/core/_methods.py\", line 113, in _clip_dep_invoke_with_casting\n    return ufunc(*args, out=out, **kwargs)\nValueError: operands could not be broadcast together with shapes (2,) (14,) (14,) \n",
     "output_type": "error",
     "traceback": [
      "\u001b[0;31m---------------------------------------------------------------------------\u001b[0m",
      "\u001b[0;31mException\u001b[0m                                 Traceback (most recent call last)",
      "\u001b[0;32m<ipython-input-19-5b91435f66ef>\u001b[0m in \u001b[0;36m<module>\u001b[0;34m\u001b[0m\n\u001b[0;32m----> 1\u001b[0;31m \u001b[0mtrain_envs\u001b[0m\u001b[0;34m.\u001b[0m\u001b[0mstep\u001b[0m\u001b[0;34m(\u001b[0m\u001b[0maction\u001b[0m\u001b[0;34m)\u001b[0m\u001b[0;34m\u001b[0m\u001b[0;34m\u001b[0m\u001b[0m\n\u001b[0m",
      "\u001b[0;32m~/WORKSPACE/TUD/vk_igibson/iGibson/gibson2/envs/parallel_env.py\u001b[0m in \u001b[0;36mstep\u001b[0;34m(self, actions)\u001b[0m\n\u001b[1;32m     72\u001b[0m         \u001b[0;31m# When blocking is False we get promises that need to be called.\u001b[0m\u001b[0;34m\u001b[0m\u001b[0;34m\u001b[0m\u001b[0;34m\u001b[0m\u001b[0m\n\u001b[1;32m     73\u001b[0m         \u001b[0;32mif\u001b[0m \u001b[0;32mnot\u001b[0m \u001b[0mself\u001b[0m\u001b[0;34m.\u001b[0m\u001b[0m_blocking\u001b[0m\u001b[0;34m:\u001b[0m\u001b[0;34m\u001b[0m\u001b[0;34m\u001b[0m\u001b[0m\n\u001b[0;32m---> 74\u001b[0;31m             \u001b[0mtime_steps\u001b[0m \u001b[0;34m=\u001b[0m \u001b[0;34m[\u001b[0m\u001b[0mpromise\u001b[0m\u001b[0;34m(\u001b[0m\u001b[0;34m)\u001b[0m \u001b[0;32mfor\u001b[0m \u001b[0mpromise\u001b[0m \u001b[0;32min\u001b[0m \u001b[0mtime_steps\u001b[0m\u001b[0;34m]\u001b[0m\u001b[0;34m\u001b[0m\u001b[0;34m\u001b[0m\u001b[0m\n\u001b[0m\u001b[1;32m     75\u001b[0m         \u001b[0;32mreturn\u001b[0m \u001b[0mtime_steps\u001b[0m\u001b[0;34m\u001b[0m\u001b[0;34m\u001b[0m\u001b[0m\n\u001b[1;32m     76\u001b[0m \u001b[0;34m\u001b[0m\u001b[0m\n",
      "\u001b[0;32m~/WORKSPACE/TUD/vk_igibson/iGibson/gibson2/envs/parallel_env.py\u001b[0m in \u001b[0;36m<listcomp>\u001b[0;34m(.0)\u001b[0m\n\u001b[1;32m     72\u001b[0m         \u001b[0;31m# When blocking is False we get promises that need to be called.\u001b[0m\u001b[0;34m\u001b[0m\u001b[0;34m\u001b[0m\u001b[0;34m\u001b[0m\u001b[0m\n\u001b[1;32m     73\u001b[0m         \u001b[0;32mif\u001b[0m \u001b[0;32mnot\u001b[0m \u001b[0mself\u001b[0m\u001b[0;34m.\u001b[0m\u001b[0m_blocking\u001b[0m\u001b[0;34m:\u001b[0m\u001b[0;34m\u001b[0m\u001b[0;34m\u001b[0m\u001b[0m\n\u001b[0;32m---> 74\u001b[0;31m             \u001b[0mtime_steps\u001b[0m \u001b[0;34m=\u001b[0m \u001b[0;34m[\u001b[0m\u001b[0mpromise\u001b[0m\u001b[0;34m(\u001b[0m\u001b[0;34m)\u001b[0m \u001b[0;32mfor\u001b[0m \u001b[0mpromise\u001b[0m \u001b[0;32min\u001b[0m \u001b[0mtime_steps\u001b[0m\u001b[0;34m]\u001b[0m\u001b[0;34m\u001b[0m\u001b[0;34m\u001b[0m\u001b[0m\n\u001b[0m\u001b[1;32m     75\u001b[0m         \u001b[0;32mreturn\u001b[0m \u001b[0mtime_steps\u001b[0m\u001b[0;34m\u001b[0m\u001b[0;34m\u001b[0m\u001b[0m\n\u001b[1;32m     76\u001b[0m \u001b[0;34m\u001b[0m\u001b[0m\n",
      "\u001b[0;32m~/WORKSPACE/TUD/vk_igibson/iGibson/gibson2/envs/parallel_env.py\u001b[0m in \u001b[0;36m_receive\u001b[0;34m(self)\u001b[0m\n\u001b[1;32m    191\u001b[0m         \u001b[0;32mif\u001b[0m \u001b[0mmessage\u001b[0m \u001b[0;34m==\u001b[0m \u001b[0mself\u001b[0m\u001b[0;34m.\u001b[0m\u001b[0m_EXCEPTION\u001b[0m\u001b[0;34m:\u001b[0m\u001b[0;34m\u001b[0m\u001b[0;34m\u001b[0m\u001b[0m\n\u001b[1;32m    192\u001b[0m             \u001b[0mstacktrace\u001b[0m \u001b[0;34m=\u001b[0m \u001b[0mpayload\u001b[0m\u001b[0;34m\u001b[0m\u001b[0;34m\u001b[0m\u001b[0m\n\u001b[0;32m--> 193\u001b[0;31m             \u001b[0;32mraise\u001b[0m \u001b[0mException\u001b[0m\u001b[0;34m(\u001b[0m\u001b[0mstacktrace\u001b[0m\u001b[0;34m)\u001b[0m\u001b[0;34m\u001b[0m\u001b[0;34m\u001b[0m\u001b[0m\n\u001b[0m\u001b[1;32m    194\u001b[0m         \u001b[0;32mif\u001b[0m \u001b[0mmessage\u001b[0m \u001b[0;34m==\u001b[0m \u001b[0mself\u001b[0m\u001b[0;34m.\u001b[0m\u001b[0m_RESULT\u001b[0m\u001b[0;34m:\u001b[0m\u001b[0;34m\u001b[0m\u001b[0;34m\u001b[0m\u001b[0m\n\u001b[1;32m    195\u001b[0m             \u001b[0;32mreturn\u001b[0m \u001b[0mpayload\u001b[0m\u001b[0;34m\u001b[0m\u001b[0;34m\u001b[0m\u001b[0m\n",
      "\u001b[0;31mException\u001b[0m: Traceback (most recent call last):\n  File \"/home/vkmittal14/WORKSPACE/TUD/vk_igibson/iGibson/gibson2/envs/parallel_env.py\", line 230, in _worker\n    result = getattr(env, name)(*args, **kwargs)\n  File \"/home/vkmittal14/WORKSPACE/TUD/vk_igibson/iGibson/gibson2/envs/igibson_env.py\", line 303, in step\n    self.robots[0].apply_action(action)\n  File \"/home/vkmittal14/WORKSPACE/TUD/vk_igibson/iGibson/gibson2/robots/robot_locomotor.py\", line 270, in apply_action\n    real_action = self.policy_action_to_robot_action(action)\n  File \"/home/vkmittal14/WORKSPACE/TUD/vk_igibson/iGibson/gibson2/robots/robot_locomotor.py\", line 259, in policy_action_to_robot_action\n    self.action_space.high)\n  File \"<__array_function__ internals>\", line 6, in clip\n  File \"/home/vkmittal14/miniconda3/envs/vk-igibson/lib/python3.7/site-packages/numpy/core/fromnumeric.py\", line 2115, in clip\n    return _wrapfunc(a, 'clip', a_min, a_max, out=out, **kwargs)\n  File \"/home/vkmittal14/miniconda3/envs/vk-igibson/lib/python3.7/site-packages/numpy/core/fromnumeric.py\", line 57, in _wrapfunc\n    return bound(*args, **kwds)\n  File \"/home/vkmittal14/miniconda3/envs/vk-igibson/lib/python3.7/site-packages/numpy/core/_methods.py\", line 160, in _clip\n    um.clip, a, min, max, out=out, casting=casting, **kwargs)\n  File \"/home/vkmittal14/miniconda3/envs/vk-igibson/lib/python3.7/site-packages/numpy/core/_methods.py\", line 113, in _clip_dep_invoke_with_casting\n    return ufunc(*args, out=out, **kwargs)\nValueError: operands could not be broadcast together with shapes (2,) (14,) (14,) \n"
     ]
    }
   ],
   "source": [
    "train_envs.step(action)"
   ]
  },
  {
   "cell_type": "code",
   "execution_count": 11,
   "id": "2be98372",
   "metadata": {},
   "outputs": [
    {
     "data": {
      "text/plain": [
       "'Tiago_Single'"
      ]
     },
     "execution_count": 11,
     "metadata": {},
     "output_type": "execute_result"
    }
   ],
   "source": [
    "train_envs._envs[0].config[\"robot\"]"
   ]
  },
  {
   "cell_type": "code",
   "execution_count": null,
   "id": "9798a4ae",
   "metadata": {},
   "outputs": [],
   "source": []
  }
 ],
 "metadata": {
  "interpreter": {
   "hash": "a6b10a49ff0eee18a8ab4c2a5a157d27a55300e764a091896ad21484d75a6d96"
  },
  "kernelspec": {
   "display_name": "Python 3",
   "language": "python",
   "name": "python3"
  },
  "language_info": {
   "codemirror_mode": {
    "name": "ipython",
    "version": 3
   },
   "file_extension": ".py",
   "mimetype": "text/x-python",
   "name": "python",
   "nbconvert_exporter": "python",
   "pygments_lexer": "ipython3",
   "version": "3.7.10"
  }
 },
 "nbformat": 4,
 "nbformat_minor": 5
}
