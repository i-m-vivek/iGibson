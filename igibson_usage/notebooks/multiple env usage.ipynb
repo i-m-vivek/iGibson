{
 "cells": [
  {
   "cell_type": "code",
   "execution_count": 1,
   "id": "72801555",
   "metadata": {},
   "outputs": [
    {
     "name": "stderr",
     "output_type": "stream",
     "text": [
      "INFO:root:Importing iGibson (gibson2 module)\n",
      "INFO:root:Assets path: /home/vkmittal14/WORKSPACE/TUD/vk_igibson/iGibson/gibson2/data/assets\n",
      "INFO:root:Gibson Dataset path: /home/vkmittal14/WORKSPACE/TUD/vk_igibson/iGibson/gibson2/data/g_dataset\n",
      "INFO:root:iG Dataset path: /home/vkmittal14/WORKSPACE/TUD/vk_igibson/iGibson/gibson2/data/ig_dataset\n",
      "INFO:root:3D-FRONT Dataset path: /home/vkmittal14/WORKSPACE/TUD/vk_igibson/iGibson/gibson2/data/threedfront_dataset\n",
      "INFO:root:CubiCasa5K Dataset path: /home/vkmittal14/WORKSPACE/TUD/vk_igibson/iGibson/gibson2/data/cubicasa_dataset\n",
      "INFO:root:Example path: /home/vkmittal14/WORKSPACE/TUD/vk_igibson/iGibson/gibson2/examples\n",
      "INFO:root:Example config path: /home/vkmittal14/WORKSPACE/TUD/vk_igibson/iGibson/gibson2/examples/configs\n"
     ]
    }
   ],
   "source": [
    "import torch \n",
    "import gibson2 \n",
    "import numpy as np\n",
    "from gibson2.envs.igibson_env import iGibsonEnv\n",
    "from gibson2.envs.parallel_env import ParallelNavEnv"
   ]
  },
  {
   "cell_type": "code",
   "execution_count": 2,
   "id": "0877ec37",
   "metadata": {},
   "outputs": [],
   "source": [
    "def load_env(env_mode, device_idx):\n",
    "    return iGibsonEnv(\n",
    "    config_file= \"../configs/tiago_tabletop.yaml\", \n",
    "    mode = \"headless\", \n",
    "    action_timestep=1.0/10.0, \n",
    "    physics_timestep=1.0/40.0,\n",
    "    automatic_reset= True, \n",
    "    device_idx= device_idx)"
   ]
  },
  {
   "cell_type": "code",
   "execution_count": 3,
   "id": "4623bc4d",
   "metadata": {},
   "outputs": [
    {
     "name": "stderr",
     "output_type": "stream",
     "text": [
      "/home/vkmittal14/miniconda3/envs/vk-igibson/lib/python3.7/site-packages/ipykernel_launcher.py:6: DeprecationWarning: `np.int` is a deprecated alias for the builtin `int`. To silence this warning, use `int` by itself. Doing this will not modify any behavior and is safe. When replacing `np.int`, you may wish to use e.g. `np.int64` or `np.int32` to specify the precision. If you wish to review your current use, check the release note link for additional information.\n",
      "Deprecated in NumPy 1.20; for more details and guidance: https://numpy.org/devdocs/release/1.20.0-notes.html#deprecations\n",
      "  \n"
     ]
    }
   ],
   "source": [
    "sim_gpu_id = [0]\n",
    "env_id_to_which_gpu = np.linspace(\n",
    "        0,\n",
    "        len(sim_gpu_id),\n",
    "        num=2,\n",
    "        dtype=np.int,\n",
    "        endpoint=False,\n",
    "    )"
   ]
  },
  {
   "cell_type": "code",
   "execution_count": 4,
   "id": "c7c1bd74",
   "metadata": {},
   "outputs": [],
   "source": [
    "train_envs = [\n",
    "        lambda device_idx=sim_gpu_id[env_id_to_which_gpu[env_id]]: load_env(\n",
    "            \"headless\", device_idx\n",
    "        )\n",
    "        for env_id in range(1)\n",
    "    ]"
   ]
  },
  {
   "cell_type": "code",
   "execution_count": 5,
   "id": "5459e42d",
   "metadata": {
    "scrolled": true
   },
   "outputs": [
    {
     "name": "stdout",
     "output_type": "stream",
     "text": [
      "{'arm_velocity': 0.8,\n",
      " 'build_graph': False,\n",
      " 'collision_reward_weight': -0.01,\n",
      " 'depth_high': 3.0,\n",
      " 'depth_low': 0.35,\n",
      " 'depth_noise_rate': 0.0,\n",
      " 'discount_factor': 0.99,\n",
      " 'dist_tol': 0.2,\n",
      " 'fisheye': False,\n",
      " 'goal_format': 'polar',\n",
      " 'image_height': 128,\n",
      " 'image_width': 128,\n",
      " 'initial_pos_z_offset': 0.1,\n",
      " 'intial_robot_pos': [0, 0, 0],\n",
      " 'laser_angular_range': 220.0,\n",
      " 'laser_linear_range': 25.0,\n",
      " 'laser_link_name': 'rgbd_laser_link',\n",
      " 'load_texture': True,\n",
      " 'max_change': 0.4,\n",
      " 'max_collisions_allowed': 1000,\n",
      " 'max_step': 1000,\n",
      " 'min_change': 0.3,\n",
      " 'min_laser_dist': 0.05,\n",
      " 'n_horizontal_rays': 220,\n",
      " 'n_vertical_beams': 1,\n",
      " 'object_randomization_freq': None,\n",
      " 'output': ['task_obs'],\n",
      " 'potential_reward_weight': 1.0,\n",
      " 'pybullet_load_texture': True,\n",
      " 'reward_type': 'l2',\n",
      " 'robot': 'Tiago_Single',\n",
      " 'scan_noise_rate': 0.0,\n",
      " 'scene': 'empty_table',\n",
      " 'should_open_all_doors': True,\n",
      " 'success_reward': 10.0,\n",
      " 'table_height': 0.63,\n",
      " 'table_scaling': 2,\n",
      " 'table_urdf_path': 'objects/table/9ad91992184e2b3e283b00891f680579/9ad91992184e2b3e283b00891f680579.urdf',\n",
      " 'target_dist_max': 100.0,\n",
      " 'target_dist_min': 1.0,\n",
      " 'target_visual_object_visible_to_agent': False,\n",
      " 'task': 'reaching_random',\n",
      " 'task_obs_dim': 9,\n",
      " 'texture_randomization_freq': None,\n",
      " 'torso_lift_velocity': 0.8,\n",
      " 'trav_map_erosion': 3,\n",
      " 'trav_map_resolution': 0.1,\n",
      " 'trav_map_type': 'no_obj',\n",
      " 'vertical_fov': 90,\n",
      " 'visual_marker': 'sphere',\n",
      " 'visual_object_at_initial_target_pos': True,\n",
      " 'wheel_velocity': 0.8}\n"
     ]
    },
    {
     "name": "stderr",
     "output_type": "stream",
     "text": [
      "INFO:root:Device 0 is available for rendering\n",
      "INFO:root:Command '['/home/vkmittal14/WORKSPACE/TUD/vk_igibson/iGibson/gibson2/render/mesh_renderer/build/test_device', '1']' returned non-zero exit status 1.\n",
      "INFO:root:Device 1 is not available for rendering\n",
      "INFO:root:Using device 0 for rendering\n"
     ]
    },
    {
     "name": "stdout",
     "output_type": "stream",
     "text": [
      "******************PyBullet Logging Information:\n",
      "PyBullet Logging Information******************\n"
     ]
    },
    {
     "name": "stderr",
     "output_type": "stream",
     "text": [
      "INFO:root:Loading /home/vkmittal14/WORKSPACE/TUD/vk_igibson/iGibson/gibson2/data/ig_dataset/objects/table/9ad91992184e2b3e283b00891f680579/shape/visual/9ad91992184e2b3e283b00891f680579_m1_vm.obj\n",
      "/home/vkmittal14/WORKSPACE/TUD/vk_igibson/iGibson/gibson2/render/mesh_renderer/mesh_renderer_cpu.py:464: RuntimeWarning: divide by zero encountered in true_divide\n",
      "  delta_uv1[:, 1] * delta_uv2[:, 0])\n",
      "/home/vkmittal14/WORKSPACE/TUD/vk_igibson/iGibson/gibson2/render/mesh_renderer/mesh_renderer_cpu.py:466: RuntimeWarning: invalid value encountered in multiply\n",
      "  delta_pos2 * delta_uv1[:, 1][:, None]) * r[:, None]\n",
      "/home/vkmittal14/WORKSPACE/TUD/vk_igibson/iGibson/gibson2/render/mesh_renderer/mesh_renderer_cpu.py:468: RuntimeWarning: invalid value encountered in multiply\n",
      "  delta_pos1 * delta_uv2[:, 0][:, None]) * r[:, None]\n",
      "INFO:root:Loading /home/vkmittal14/WORKSPACE/TUD/vk_igibson/iGibson/gibson2/data/ig_dataset/objects/table/9ad91992184e2b3e283b00891f680579/shape/visual/9ad91992184e2b3e283b00891f680579_m2_vm.obj\n",
      "INFO:root:Loading robot model file: tiago/tiago_single.urdf\n",
      "INFO:root:Loading /home/vkmittal14/WORKSPACE/TUD/vk_igibson/iGibson/gibson2/data/assets/models/tiago/pmb2_description/meshes/base/base.stl\n",
      "INFO:root:Loading /home/vkmittal14/WORKSPACE/TUD/vk_igibson/iGibson/gibson2/data/assets/models/tiago/pmb2_description/meshes/sensors/sick_tim551.stl\n",
      "INFO:root:Loading /home/vkmittal14/WORKSPACE/TUD/vk_igibson/iGibson/gibson2/data/assets/models/tiago/pmb2_description/meshes/sensors/srf05.stl\n",
      "INFO:root:Loading /home/vkmittal14/WORKSPACE/TUD/vk_igibson/iGibson/gibson2/data/assets/models/tiago/pmb2_description/meshes/objects/antenna.stl\n",
      "INFO:root:Loading /home/vkmittal14/WORKSPACE/TUD/vk_igibson/iGibson/gibson2/data/assets/models/tiago/pmb2_description/meshes/wheels/wheel.stl\n",
      "INFO:root:Loading /home/vkmittal14/WORKSPACE/TUD/vk_igibson/iGibson/gibson2/data/assets/models/tiago/pmb2_description/meshes/wheels/wheel.stl\n",
      "INFO:root:Loading /home/vkmittal14/WORKSPACE/TUD/vk_igibson/iGibson/gibson2/data/assets/models/tiago/pmb2_description/meshes/wheels/caster_1.stl\n",
      "INFO:root:Loading /home/vkmittal14/WORKSPACE/TUD/vk_igibson/iGibson/gibson2/data/assets/models/tiago/pmb2_description/meshes/wheels/caster_2.stl\n",
      "INFO:root:Loading /home/vkmittal14/WORKSPACE/TUD/vk_igibson/iGibson/gibson2/data/assets/models/tiago/tiago_description/meshes/torso/torso_fix.stl\n",
      "INFO:root:Loading /home/vkmittal14/WORKSPACE/TUD/vk_igibson/iGibson/gibson2/data/assets/models/tiago/tiago_description/meshes/torso/torso_lift_with_arm.stl\n",
      "INFO:root:Loading /home/vkmittal14/WORKSPACE/TUD/vk_igibson/iGibson/gibson2/data/assets/models/tiago/tiago_description/meshes/head/head_1.stl\n",
      "INFO:root:Loading /home/vkmittal14/WORKSPACE/TUD/vk_igibson/iGibson/gibson2/data/assets/models/tiago/tiago_description/meshes/head/head_2.stl\n",
      "INFO:root:Loading /home/vkmittal14/WORKSPACE/TUD/vk_igibson/iGibson/gibson2/data/assets/models/tiago/tiago_description/meshes/arm/arm_1.stl\n",
      "INFO:root:Loading /home/vkmittal14/WORKSPACE/TUD/vk_igibson/iGibson/gibson2/data/assets/models/tiago/tiago_description/meshes/arm/arm_2.stl\n",
      "INFO:root:Loading /home/vkmittal14/WORKSPACE/TUD/vk_igibson/iGibson/gibson2/data/assets/models/tiago/tiago_description/meshes/arm/arm_3.stl\n",
      "INFO:root:Loading /home/vkmittal14/WORKSPACE/TUD/vk_igibson/iGibson/gibson2/data/assets/models/tiago/tiago_description/meshes/arm/arm_4.stl\n",
      "INFO:root:Loading /home/vkmittal14/WORKSPACE/TUD/vk_igibson/iGibson/gibson2/data/assets/models/tiago/tiago_description/meshes/arm/arm_5-wrist-2017.stl\n",
      "INFO:root:Loading /home/vkmittal14/WORKSPACE/TUD/vk_igibson/iGibson/gibson2/data/assets/models/tiago/tiago_description/meshes/arm/arm_6-wrist-2017.stl\n",
      "INFO:root:Loading /home/vkmittal14/WORKSPACE/TUD/vk_igibson/iGibson/gibson2/data/assets/models/mjcf_primitives/cube.obj\n",
      "INFO:root:Loading /home/vkmittal14/WORKSPACE/TUD/vk_igibson/iGibson/gibson2/data/assets/models/mjcf_primitives/cube.obj\n",
      "INFO:root:Loading /home/vkmittal14/WORKSPACE/TUD/vk_igibson/iGibson/gibson2/data/assets/models/mjcf_primitives/cube.obj\n",
      "INFO:root:Loading /home/vkmittal14/WORKSPACE/TUD/vk_igibson/iGibson/gibson2/data/assets/models/tiago/pal_gripper_description/meshes/gripper_link.stl\n",
      "INFO:root:Loading /home/vkmittal14/WORKSPACE/TUD/vk_igibson/iGibson/gibson2/data/assets/models/tiago/pal_gripper_description/meshes/gripper_finger_link.stl\n",
      "INFO:root:Loading /home/vkmittal14/WORKSPACE/TUD/vk_igibson/iGibson/gibson2/data/assets/models/tiago/pal_gripper_description/meshes/gripper_finger_link.stl\n",
      "INFO:root:Loading /home/vkmittal14/WORKSPACE/TUD/vk_igibson/iGibson/gibson2/data/assets/models/mjcf_primitives/cube.obj\n",
      "INFO:root:Loading /home/vkmittal14/WORKSPACE/TUD/vk_igibson/iGibson/gibson2/data/assets/models/tiago/pmb2_description/meshes/base/base_ring.stl\n",
      "WARNING:root:WARNING: trying to compute the shortest path in EmptyScene (assuming empty space)\n"
     ]
    }
   ],
   "source": [
    "train_envs = ParallelNavEnv(train_envs, blocking=False)"
   ]
  },
  {
   "cell_type": "code",
   "execution_count": 6,
   "id": "9ed10ae1",
   "metadata": {},
   "outputs": [
    {
     "data": {
      "text/plain": [
       "[OrderedDict([('task_obs',\n",
       "               array([ 1.43051046e+00, -4.09146331e-01, -3.94665829e-04,  1.27579559e-04,\n",
       "                       9.93418415e-05,  6.53062745e-01,  7.20500028e-02, -3.89575002e-01,\n",
       "                       3.74999988e-01]))])]"
      ]
     },
     "execution_count": 6,
     "metadata": {},
     "output_type": "execute_result"
    }
   ],
   "source": [
    "train_envs.reset()"
   ]
  },
  {
   "cell_type": "code",
   "execution_count": 17,
   "id": "b7605fa8",
   "metadata": {},
   "outputs": [
    {
     "data": {
      "text/plain": [
       "array([0, 0])"
      ]
     },
     "execution_count": 17,
     "metadata": {},
     "output_type": "execute_result"
    }
   ],
   "source": [
    "env_id_to_which_gpu"
   ]
  },
  {
   "cell_type": "code",
   "execution_count": 10,
   "id": "d2a60274",
   "metadata": {},
   "outputs": [
    {
     "data": {
      "text/plain": [
       "Box(-1.0, 1.0, (14,), float32)"
      ]
     },
     "execution_count": 10,
     "metadata": {},
     "output_type": "execute_result"
    }
   ],
   "source": [
    "train_envs.action_space"
   ]
  },
  {
   "cell_type": "code",
   "execution_count": null,
   "id": "24f880da",
   "metadata": {},
   "outputs": [],
   "source": []
  }
 ],
 "metadata": {
  "kernelspec": {
   "display_name": "Python 3",
   "language": "python",
   "name": "python3"
  },
  "language_info": {
   "codemirror_mode": {
    "name": "ipython",
    "version": 3
   },
   "file_extension": ".py",
   "mimetype": "text/x-python",
   "name": "python",
   "nbconvert_exporter": "python",
   "pygments_lexer": "ipython3",
   "version": "3.7.10"
  }
 },
 "nbformat": 4,
 "nbformat_minor": 5
}
