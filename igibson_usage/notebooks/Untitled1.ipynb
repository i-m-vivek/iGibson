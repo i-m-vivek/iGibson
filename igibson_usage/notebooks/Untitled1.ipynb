{
 "cells": [
  {
   "cell_type": "code",
   "execution_count": 1,
   "id": "7720f0ec",
   "metadata": {},
   "outputs": [
    {
     "name": "stderr",
     "output_type": "stream",
     "text": [
      "INFO:root:Importing iGibson (gibson2 module)\n",
      "INFO:root:Assets path: /home/vkmittal14/WORKSPACE/TUD/vk_igibson/iGibson/gibson2/data/assets\n",
      "INFO:root:Gibson Dataset path: /home/vkmittal14/WORKSPACE/TUD/vk_igibson/iGibson/gibson2/data/g_dataset\n",
      "INFO:root:iG Dataset path: /home/vkmittal14/WORKSPACE/TUD/vk_igibson/iGibson/gibson2/data/ig_dataset\n",
      "INFO:root:3D-FRONT Dataset path: /home/vkmittal14/WORKSPACE/TUD/vk_igibson/iGibson/gibson2/data/threedfront_dataset\n",
      "INFO:root:CubiCasa5K Dataset path: /home/vkmittal14/WORKSPACE/TUD/vk_igibson/iGibson/gibson2/data/cubicasa_dataset\n",
      "INFO:root:Example path: /home/vkmittal14/WORKSPACE/TUD/vk_igibson/iGibson/gibson2/examples\n",
      "INFO:root:Example config path: /home/vkmittal14/WORKSPACE/TUD/vk_igibson/iGibson/gibson2/examples/configs\n",
      "INFO:root:Device 0 is available for rendering\n",
      "INFO:root:Command '['/home/vkmittal14/WORKSPACE/TUD/vk_igibson/iGibson/gibson2/render/mesh_renderer/build/test_device', '1']' returned non-zero exit status 1.\n",
      "INFO:root:Device 1 is not available for rendering\n",
      "INFO:root:Using device 0 for rendering\n"
     ]
    },
    {
     "name": "stdout",
     "output_type": "stream",
     "text": [
      "******************PyBullet Logging Information:\n",
      "PyBullet Logging Information******************\n"
     ]
    },
    {
     "name": "stderr",
     "output_type": "stream",
     "text": [
      "INFO:root:Loading /home/vkmittal14/WORKSPACE/TUD/vk_igibson/iGibson/gibson2/data/assets/models/mjcf_primitives/cube.obj\n",
      "INFO:root:Loading /home/vkmittal14/WORKSPACE/TUD/vk_igibson/iGibson/gibson2/data/assets/models/mjcf_primitives/sphere8.obj\n",
      "INFO:root:Loading /home/vkmittal14/miniconda3/envs/vk-igibson/lib/python3.7/site-packages/pybullet_data/roboschool/models_outdoor/stadium/part0.obj\n",
      "INFO:root:Loading /home/vkmittal14/miniconda3/envs/vk-igibson/lib/python3.7/site-packages/pybullet_data/roboschool/models_outdoor/stadium/part1.obj\n",
      "INFO:root:Loading /home/vkmittal14/miniconda3/envs/vk-igibson/lib/python3.7/site-packages/pybullet_data/roboschool/models_outdoor/stadium/part2.obj\n",
      "INFO:root:Loading robot model file: tiago/tiago_single.urdf\n",
      "INFO:root:Loading /home/vkmittal14/WORKSPACE/TUD/vk_igibson/iGibson/gibson2/data/assets/models/tiago/pmb2_description/meshes/base/base.stl\n",
      "INFO:root:Loading /home/vkmittal14/WORKSPACE/TUD/vk_igibson/iGibson/gibson2/data/assets/models/tiago/pmb2_description/meshes/sensors/sick_tim551.stl\n",
      "INFO:root:Loading /home/vkmittal14/WORKSPACE/TUD/vk_igibson/iGibson/gibson2/data/assets/models/tiago/pmb2_description/meshes/sensors/srf05.stl\n",
      "INFO:root:Loading /home/vkmittal14/WORKSPACE/TUD/vk_igibson/iGibson/gibson2/data/assets/models/tiago/pmb2_description/meshes/objects/antenna.stl\n",
      "INFO:root:Loading /home/vkmittal14/WORKSPACE/TUD/vk_igibson/iGibson/gibson2/data/assets/models/tiago/pmb2_description/meshes/wheels/wheel.stl\n",
      "INFO:root:Loading /home/vkmittal14/WORKSPACE/TUD/vk_igibson/iGibson/gibson2/data/assets/models/tiago/pmb2_description/meshes/wheels/wheel.stl\n",
      "INFO:root:Loading /home/vkmittal14/WORKSPACE/TUD/vk_igibson/iGibson/gibson2/data/assets/models/tiago/pmb2_description/meshes/wheels/caster_1.stl\n",
      "INFO:root:Loading /home/vkmittal14/WORKSPACE/TUD/vk_igibson/iGibson/gibson2/data/assets/models/tiago/pmb2_description/meshes/wheels/caster_2.stl\n",
      "INFO:root:Loading /home/vkmittal14/WORKSPACE/TUD/vk_igibson/iGibson/gibson2/data/assets/models/tiago/tiago_description/meshes/torso/torso_fix.stl\n",
      "INFO:root:Loading /home/vkmittal14/WORKSPACE/TUD/vk_igibson/iGibson/gibson2/data/assets/models/tiago/tiago_description/meshes/torso/torso_lift_with_arm.stl\n",
      "INFO:root:Loading /home/vkmittal14/WORKSPACE/TUD/vk_igibson/iGibson/gibson2/data/assets/models/tiago/tiago_description/meshes/head/head_1.stl\n",
      "INFO:root:Loading /home/vkmittal14/WORKSPACE/TUD/vk_igibson/iGibson/gibson2/data/assets/models/tiago/tiago_description/meshes/head/head_2.stl\n",
      "INFO:root:Loading /home/vkmittal14/WORKSPACE/TUD/vk_igibson/iGibson/gibson2/data/assets/models/tiago/tiago_description/meshes/arm/arm_1.stl\n",
      "INFO:root:Loading /home/vkmittal14/WORKSPACE/TUD/vk_igibson/iGibson/gibson2/data/assets/models/tiago/tiago_description/meshes/arm/arm_2.stl\n",
      "INFO:root:Loading /home/vkmittal14/WORKSPACE/TUD/vk_igibson/iGibson/gibson2/data/assets/models/tiago/tiago_description/meshes/arm/arm_3.stl\n",
      "INFO:root:Loading /home/vkmittal14/WORKSPACE/TUD/vk_igibson/iGibson/gibson2/data/assets/models/tiago/tiago_description/meshes/arm/arm_4.stl\n",
      "INFO:root:Loading /home/vkmittal14/WORKSPACE/TUD/vk_igibson/iGibson/gibson2/data/assets/models/tiago/tiago_description/meshes/arm/arm_5-wrist-2017.stl\n",
      "INFO:root:Loading /home/vkmittal14/WORKSPACE/TUD/vk_igibson/iGibson/gibson2/data/assets/models/tiago/tiago_description/meshes/arm/arm_6-wrist-2017.stl\n",
      "INFO:root:Loading /home/vkmittal14/WORKSPACE/TUD/vk_igibson/iGibson/gibson2/data/assets/models/mjcf_primitives/cube.obj\n",
      "INFO:root:Loading /home/vkmittal14/WORKSPACE/TUD/vk_igibson/iGibson/gibson2/data/assets/models/mjcf_primitives/cube.obj\n",
      "INFO:root:Loading /home/vkmittal14/WORKSPACE/TUD/vk_igibson/iGibson/gibson2/data/assets/models/mjcf_primitives/cube.obj\n",
      "INFO:root:Loading /home/vkmittal14/WORKSPACE/TUD/vk_igibson/iGibson/gibson2/data/assets/models/tiago/pal_gripper_description/meshes/gripper_link.stl\n",
      "INFO:root:Loading /home/vkmittal14/WORKSPACE/TUD/vk_igibson/iGibson/gibson2/data/assets/models/tiago/pal_gripper_description/meshes/gripper_finger_link.stl\n",
      "INFO:root:Loading /home/vkmittal14/WORKSPACE/TUD/vk_igibson/iGibson/gibson2/data/assets/models/tiago/pal_gripper_description/meshes/gripper_finger_link.stl\n",
      "INFO:root:Loading /home/vkmittal14/WORKSPACE/TUD/vk_igibson/iGibson/gibson2/data/assets/models/mjcf_primitives/cube.obj\n",
      "INFO:root:Loading /home/vkmittal14/WORKSPACE/TUD/vk_igibson/iGibson/gibson2/data/assets/models/tiago/pmb2_description/meshes/base/base_ring.stl\n"
     ]
    }
   ],
   "source": [
    "from gibson2.external.pybullet_tools.utils import set_joint_positions\n",
    "\n",
    "from gibson2.robots.turtlebot_robot import Turtlebot\n",
    "from gibson2.robots.fetch_robot import Fetch\n",
    "from gibson2.robots.freight_robot import Freight\n",
    "from gibson2.robots.tiago_single_robot import Tiago_Single\n",
    "\n",
    "# from gibson2.robots.tia\n",
    "from gibson2.simulator import Simulator\n",
    "from gibson2.scenes.stadium_scene import StadiumScene\n",
    "\n",
    "from gibson2.scenes.gibson_indoor_scene import StaticIndoorScene\n",
    "from gibson2.objects.ycb_object import YCBObject\n",
    "from gibson2.utils.utils import parse_config\n",
    "from gibson2.render.mesh_renderer.mesh_renderer_settings import MeshRendererSettings\n",
    "import numpy as np\n",
    "from gibson2.render.profiler import Profiler\n",
    "import gibson2\n",
    "import os\n",
    "\n",
    "\n",
    "config = parse_config(\"../new_configs/tiago_base_reaching.yaml\")\n",
    "\n",
    "settings = MeshRendererSettings(\n",
    "    enable_shadow=False, msaa=False, enable_pbr=True, texture_scale=1.0\n",
    ")\n",
    "s = Simulator(\n",
    "    mode=\"gui\",\n",
    "    image_width=128,\n",
    "    image_height=128,\n",
    "    vertical_fov=90,\n",
    "    rendering_settings=settings,\n",
    "    physics_timestep=1 / 240.0,\n",
    "    render_timestep=1 / 10.0,\n",
    "    render_to_tensor=False,\n",
    ")\n",
    "\n",
    "\n",
    "scene = StadiumScene()\n",
    "s.import_scene(scene, load_texture=False)\n",
    "my_robot = Tiago_Single(config)\n",
    "my_robot.self_collision = True\n",
    "s.import_robot(my_robot)\n",
    "my_robot.set_position([0, 0, 0])"
   ]
  },
  {
   "cell_type": "code",
   "execution_count": null,
   "id": "0aac1fc8",
   "metadata": {},
   "outputs": [],
   "source": []
  },
  {
   "cell_type": "code",
   "execution_count": null,
   "id": "fd86e81e",
   "metadata": {},
   "outputs": [],
   "source": [
    "rest_position = [0, np.pi, -np.pi / 2, 0, np.pi / 2, 0, 0, 0]\n",
    "set_joint_positions(robot_id, arm_joints, rest_position)"
   ]
  }
 ],
 "metadata": {
  "kernelspec": {
   "display_name": "Python 3",
   "language": "python",
   "name": "python3"
  },
  "language_info": {
   "codemirror_mode": {
    "name": "ipython",
    "version": 3
   },
   "file_extension": ".py",
   "mimetype": "text/x-python",
   "name": "python",
   "nbconvert_exporter": "python",
   "pygments_lexer": "ipython3",
   "version": "3.7.10"
  }
 },
 "nbformat": 4,
 "nbformat_minor": 5
}
