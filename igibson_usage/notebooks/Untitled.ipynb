{
 "cells": [
  {
   "cell_type": "code",
   "execution_count": 1,
   "id": "fc97d6ce",
   "metadata": {},
   "outputs": [
    {
     "name": "stderr",
     "output_type": "stream",
     "text": [
      "INFO:root:Importing iGibson (gibson2 module)\n",
      "INFO:root:Assets path: /home/vkmittal14/WORKSPACE/TUD/vk_igibson/iGibson/gibson2/data/assets\n",
      "INFO:root:Gibson Dataset path: /home/vkmittal14/WORKSPACE/TUD/vk_igibson/iGibson/gibson2/data/g_dataset\n",
      "INFO:root:iG Dataset path: /home/vkmittal14/WORKSPACE/TUD/vk_igibson/iGibson/gibson2/data/ig_dataset\n",
      "INFO:root:3D-FRONT Dataset path: /home/vkmittal14/WORKSPACE/TUD/vk_igibson/iGibson/gibson2/data/threedfront_dataset\n",
      "INFO:root:CubiCasa5K Dataset path: /home/vkmittal14/WORKSPACE/TUD/vk_igibson/iGibson/gibson2/data/cubicasa_dataset\n",
      "INFO:root:Example path: /home/vkmittal14/WORKSPACE/TUD/vk_igibson/iGibson/gibson2/examples\n",
      "INFO:root:Example config path: /home/vkmittal14/WORKSPACE/TUD/vk_igibson/iGibson/gibson2/examples/configs\n",
      "INFO:root:Device 0 is available for rendering\n",
      "INFO:root:Command '['/home/vkmittal14/WORKSPACE/TUD/vk_igibson/iGibson/gibson2/render/mesh_renderer/build/test_device', '1']' returned non-zero exit status 1.\n",
      "INFO:root:Device 1 is not available for rendering\n",
      "INFO:root:Using device 0 for rendering\n"
     ]
    },
    {
     "name": "stdout",
     "output_type": "stream",
     "text": [
      "{'additional_states_dim': 6,\n",
      " 'arm_velocity': 0.8,\n",
      " 'auxiliary_sensor_dim': 88,\n",
      " 'build_graph': False,\n",
      " 'collision_ignore_link_a_ids': [],\n",
      " 'collision_reward_weight': -0.01,\n",
      " 'depth_high': 3.0,\n",
      " 'depth_low': 0.35,\n",
      " 'depth_noise_rate': 0.0,\n",
      " 'discount_factor': 0.99,\n",
      " 'dist_tol': 0.2,\n",
      " 'electricity_reward_weight': -0.001,\n",
      " 'fisheye': False,\n",
      " 'goal_format': 'polar',\n",
      " 'image_height': 128,\n",
      " 'image_width': 128,\n",
      " 'initial_pos_z_offset': 0.1,\n",
      " 'intial_robot_pos': [0, 0, 0],\n",
      " 'is_discrete': False,\n",
      " 'laser_angular_range': 240.0,\n",
      " 'laser_linear_range': 5.6,\n",
      " 'laser_link_name': 'laser_link',\n",
      " 'load_texture': True,\n",
      " 'max_collisions_allowed': 500,\n",
      " 'max_step': 1000,\n",
      " 'min_laser_dist': 0.05,\n",
      " 'n_horizontal_rays': 228,\n",
      " 'n_vertical_beams': 1,\n",
      " 'object_randomization_freq': None,\n",
      " 'output': ['task_obs', 'sensor', 'depth'],\n",
      " 'potential_reward_weight': 1.0,\n",
      " 'pybullet_load_texture': True,\n",
      " 'reward_type': 'l2',\n",
      " 'robot': 'Fetch',\n",
      " 'scan_noise_rate': 0.0,\n",
      " 'scene': 'empty_table',\n",
      " 'success_reward': 10.0,\n",
      " 'table_collision_reward_weight': -0.1,\n",
      " 'table_height': 0.63,\n",
      " 'table_scaling': 2,\n",
      " 'table_urdf_path': 'objects/table/9ad91992184e2b3e283b00891f680579/9ad91992184e2b3e283b00891f680579.urdf',\n",
      " 'target_dist_max': 100.0,\n",
      " 'target_dist_min': 1.0,\n",
      " 'target_visual_object_visible_to_agent': False,\n",
      " 'task': 'reaching_random',\n",
      " 'task_obs_dim': 3,\n",
      " 'texture_randomization_freq': None,\n",
      " 'torso_lift_velocity': 0.8,\n",
      " 'trav_map_erosion': 3,\n",
      " 'trav_map_resolution': 0.1,\n",
      " 'trav_map_type': 'no_obj',\n",
      " 'vertical_fov': 90,\n",
      " 'visual_marker': 'sphere',\n",
      " 'visual_object_at_initial_target_pos': True,\n",
      " 'wheel_velocity': 0.8}\n",
      "******************PyBullet Logging Information:\n",
      "PyBullet Logging Information******************\n"
     ]
    },
    {
     "name": "stderr",
     "output_type": "stream",
     "text": [
      "INFO:root:Loading /home/vkmittal14/WORKSPACE/TUD/vk_igibson/iGibson/gibson2/data/ig_dataset/objects/table/9ad91992184e2b3e283b00891f680579/shape/visual/9ad91992184e2b3e283b00891f680579_m1_vm.obj\n",
      "/home/vkmittal14/WORKSPACE/TUD/vk_igibson/iGibson/gibson2/render/mesh_renderer/mesh_renderer_cpu.py:464: RuntimeWarning: divide by zero encountered in true_divide\n",
      "  delta_uv1[:, 1] * delta_uv2[:, 0])\n",
      "/home/vkmittal14/WORKSPACE/TUD/vk_igibson/iGibson/gibson2/render/mesh_renderer/mesh_renderer_cpu.py:466: RuntimeWarning: invalid value encountered in multiply\n",
      "  delta_pos2 * delta_uv1[:, 1][:, None]) * r[:, None]\n",
      "/home/vkmittal14/WORKSPACE/TUD/vk_igibson/iGibson/gibson2/render/mesh_renderer/mesh_renderer_cpu.py:468: RuntimeWarning: invalid value encountered in multiply\n",
      "  delta_pos1 * delta_uv2[:, 0][:, None]) * r[:, None]\n",
      "INFO:root:Loading /home/vkmittal14/WORKSPACE/TUD/vk_igibson/iGibson/gibson2/data/ig_dataset/objects/table/9ad91992184e2b3e283b00891f680579/shape/visual/9ad91992184e2b3e283b00891f680579_m2_vm.obj\n",
      "INFO:root:Loading robot model file: fetch/fetch.urdf\n",
      "INFO:root:Loading /home/vkmittal14/WORKSPACE/TUD/vk_igibson/iGibson/gibson2/data/assets/models/fetch/meshes/base_link.obj\n",
      "INFO:root:Loading /home/vkmittal14/WORKSPACE/TUD/vk_igibson/iGibson/gibson2/data/assets/models/fetch/meshes/r_wheel_link.obj\n",
      "INFO:root:Loading /home/vkmittal14/WORKSPACE/TUD/vk_igibson/iGibson/gibson2/data/assets/models/fetch/meshes/l_wheel_link.obj\n",
      "INFO:root:Loading /home/vkmittal14/WORKSPACE/TUD/vk_igibson/iGibson/gibson2/data/assets/models/fetch/meshes/torso_lift_link.obj\n",
      "INFO:root:Loading /home/vkmittal14/WORKSPACE/TUD/vk_igibson/iGibson/gibson2/data/assets/models/fetch/meshes/head_pan_link.obj\n",
      "INFO:root:Loading /home/vkmittal14/WORKSPACE/TUD/vk_igibson/iGibson/gibson2/data/assets/models/fetch/meshes/head_tilt_link.obj\n",
      "INFO:root:Loading /home/vkmittal14/WORKSPACE/TUD/vk_igibson/iGibson/gibson2/data/assets/models/fetch/meshes/shoulder_pan_link.obj\n",
      "INFO:root:Loading /home/vkmittal14/WORKSPACE/TUD/vk_igibson/iGibson/gibson2/data/assets/models/fetch/meshes/shoulder_lift_link.obj\n",
      "INFO:root:Loading /home/vkmittal14/WORKSPACE/TUD/vk_igibson/iGibson/gibson2/data/assets/models/fetch/meshes/upperarm_roll_link.obj\n",
      "INFO:root:Loading /home/vkmittal14/WORKSPACE/TUD/vk_igibson/iGibson/gibson2/data/assets/models/fetch/meshes/elbow_flex_link.obj\n",
      "INFO:root:Loading /home/vkmittal14/WORKSPACE/TUD/vk_igibson/iGibson/gibson2/data/assets/models/fetch/meshes/forearm_roll_link.obj\n",
      "INFO:root:Loading /home/vkmittal14/WORKSPACE/TUD/vk_igibson/iGibson/gibson2/data/assets/models/fetch/meshes/wrist_flex_link.obj\n",
      "INFO:root:Loading /home/vkmittal14/WORKSPACE/TUD/vk_igibson/iGibson/gibson2/data/assets/models/fetch/meshes/wrist_roll_link.obj\n",
      "INFO:root:Loading /home/vkmittal14/WORKSPACE/TUD/vk_igibson/iGibson/gibson2/data/assets/models/fetch/meshes/gripper_link.obj\n",
      "INFO:root:Loading /home/vkmittal14/WORKSPACE/TUD/vk_igibson/iGibson/gibson2/data/assets/models/fetch/meshes/estop_link.obj\n",
      "INFO:root:Loading /home/vkmittal14/WORKSPACE/TUD/vk_igibson/iGibson/gibson2/data/assets/models/fetch/meshes/laser_link.obj\n",
      "INFO:root:Loading /home/vkmittal14/WORKSPACE/TUD/vk_igibson/iGibson/gibson2/data/assets/models/fetch/meshes/torso_fixed_link.obj\n",
      "WARNING:root:WARNING: trying to compute the shortest path in EmptyScene (assuming empty space)\n"
     ]
    },
    {
     "data": {
      "text/plain": [
       "OrderedDict([('sensor',\n",
       "              array([-0.49076362,  2.45050881,  0.62971964,  0.08297119, -0.17894364,\n",
       "                      0.7615996 ])),\n",
       "             ('task_obs', array([2.47062394, 0.38423523, 0.63      ])),\n",
       "             ('depth',\n",
       "              array([[[0.],\n",
       "                      [0.],\n",
       "                      [0.],\n",
       "                      ...,\n",
       "                      [0.],\n",
       "                      [0.],\n",
       "                      [0.]],\n",
       "              \n",
       "                     [[0.],\n",
       "                      [0.],\n",
       "                      [0.],\n",
       "                      ...,\n",
       "                      [0.],\n",
       "                      [0.],\n",
       "                      [0.]],\n",
       "              \n",
       "                     [[0.],\n",
       "                      [0.],\n",
       "                      [0.],\n",
       "                      ...,\n",
       "                      [0.],\n",
       "                      [0.],\n",
       "                      [0.]],\n",
       "              \n",
       "                     ...,\n",
       "              \n",
       "                     [[0.],\n",
       "                      [0.],\n",
       "                      [0.],\n",
       "                      ...,\n",
       "                      [0.],\n",
       "                      [0.],\n",
       "                      [0.]],\n",
       "              \n",
       "                     [[0.],\n",
       "                      [0.],\n",
       "                      [0.],\n",
       "                      ...,\n",
       "                      [0.],\n",
       "                      [0.],\n",
       "                      [0.]],\n",
       "              \n",
       "                     [[0.],\n",
       "                      [0.],\n",
       "                      [0.],\n",
       "                      ...,\n",
       "                      [0.],\n",
       "                      [0.],\n",
       "                      [0.]]], dtype=float32))])"
      ]
     },
     "execution_count": 1,
     "metadata": {},
     "output_type": "execute_result"
    }
   ],
   "source": [
    "import pybullet as p\n",
    "from gibson2.envs.igibson_env import iGibsonEnv\n",
    "from time import time\n",
    "import gibson2\n",
    "import os\n",
    "from gibson2.render.profiler import Profiler\n",
    "import logging\n",
    "import pickle as pkl\n",
    "import numpy as np\n",
    "\n",
    "config_filename = os.path.join(\"../configs\", \"fetch_tabletop.yaml\")\n",
    "env = iGibsonEnv(config_file=config_filename, mode=\"headless\")\n",
    "state_hist = []\n",
    "reward_hist = []\n",
    "done_hist = []\n",
    "info_hist = []\n",
    "env.reset()"
   ]
  },
  {
   "cell_type": "code",
   "execution_count": 2,
   "id": "8481e4e0",
   "metadata": {},
   "outputs": [
    {
     "data": {
      "text/plain": [
       "3"
      ]
     },
     "execution_count": 2,
     "metadata": {},
     "output_type": "execute_result"
    }
   ],
   "source": [
    "p.getNumBodies()"
   ]
  },
  {
   "cell_type": "code",
   "execution_count": null,
   "id": "d1bd34e5",
   "metadata": {},
   "outputs": [],
   "source": [
    "p.loadURDF"
   ]
  }
 ],
 "metadata": {
  "kernelspec": {
   "display_name": "Python 3",
   "language": "python",
   "name": "python3"
  },
  "language_info": {
   "codemirror_mode": {
    "name": "ipython",
    "version": 3
   },
   "file_extension": ".py",
   "mimetype": "text/x-python",
   "name": "python",
   "nbconvert_exporter": "python",
   "pygments_lexer": "ipython3",
   "version": "3.7.10"
  }
 },
 "nbformat": 4,
 "nbformat_minor": 5
}
