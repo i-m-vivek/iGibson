{
 "cells": [
  {
   "cell_type": "code",
   "execution_count": 1,
   "source": [
    "import gibson2"
   ],
   "outputs": [
    {
     "output_type": "stream",
     "name": "stdout",
     "text": [
      "using asset: path /home/vkmittal14/WORKSPACE/TUD/HRL_igibon/iGibson/gibson2/assets dataset path: /home/vkmittal14/WORKSPACE/TUD/HRL_igibon/iGibson/gibson2/assets/dataset\n"
     ]
    },
    {
     "output_type": "stream",
     "name": "stderr",
     "text": [
      "/home/vkmittal14/WORKSPACE/TUD/HRL_igibon/iGibson/gibson2/__init__.py:5: YAMLLoadWarning: calling yaml.load() without Loader=... is deprecated, as the default Loader is unsafe. Please read https://msg.pyyaml.org/load for full details.\n",
      "  global_config = yaml.load(f)\n"
     ]
    }
   ],
   "metadata": {}
  },
  {
   "cell_type": "code",
   "execution_count": null,
   "source": [
    "from gibson2.envs.locomotor_env import (\n",
    "    NavigateEnv,\n",
    "    NavigateRandomEnv,\n",
    "    InteractiveNavigateEnv,\n",
    ")\n",
    "import os \n",
    "import gibson2\n",
    "\n",
    "config_file = os.path.join(\n",
    "    os.path.dirname(gibson2.__file__), \"../examples/configs\", \"jr_interactive_nav.yaml\"\n",
    ")\n",
    "env = InteractiveNavigateEnv(\n",
    "    config_file=config_file,\n",
    "    mode=\"headless\",\n",
    "    action_timestep=1.0 / 10.0,\n",
    "    physics_timestep=1.0 / 40.0,\n",
    "    automatic_reset=True,\n",
    "    device_idx=0,\n",
    "    arena=\"complex_hl_ll\"\n",
    ")"
   ],
   "outputs": [],
   "metadata": {}
  },
  {
   "cell_type": "code",
   "execution_count": 4,
   "source": [
    "env.observation_space"
   ],
   "outputs": [
    {
     "output_type": "execute_result",
     "data": {
      "text/plain": [
       "Dict(sensor:Box(3,), auxiliary_sensor:Box(66,), depth:Box(64, 64, 1))"
      ]
     },
     "metadata": {},
     "execution_count": 4
    }
   ],
   "metadata": {}
  },
  {
   "cell_type": "code",
   "execution_count": 6,
   "source": [
    "env.action_space"
   ],
   "outputs": [
    {
     "output_type": "execute_result",
     "data": {
      "text/plain": [
       "Box(7,)"
      ]
     },
     "metadata": {},
     "execution_count": 6
    }
   ],
   "metadata": {}
  },
  {
   "cell_type": "code",
   "execution_count": 7,
   "source": [
    "env.observation_space.spaces"
   ],
   "outputs": [
    {
     "output_type": "execute_result",
     "data": {
      "text/plain": [
       "OrderedDict([('sensor', Box(3,)),\n",
       "             ('auxiliary_sensor', Box(66,)),\n",
       "             ('depth', Box(64, 64, 1))])"
      ]
     },
     "metadata": {},
     "execution_count": 7
    }
   ],
   "metadata": {}
  },
  {
   "cell_type": "code",
   "execution_count": 12,
   "source": [
    "env.observation_space.spaces[\"sensor\"]"
   ],
   "outputs": [
    {
     "output_type": "execute_result",
     "data": {
      "text/plain": [
       "Box(3,)"
      ]
     },
     "metadata": {},
     "execution_count": 12
    }
   ],
   "metadata": {}
  },
  {
   "cell_type": "code",
   "execution_count": null,
   "source": [],
   "outputs": [],
   "metadata": {}
  }
 ],
 "metadata": {
  "orig_nbformat": 4,
  "language_info": {
   "name": "python",
   "version": "3.6.13",
   "mimetype": "text/x-python",
   "codemirror_mode": {
    "name": "ipython",
    "version": 3
   },
   "pygments_lexer": "ipython3",
   "nbconvert_exporter": "python",
   "file_extension": ".py"
  },
  "kernelspec": {
   "name": "python3",
   "display_name": "Python 3.6.13 64-bit ('hrl4in-igibson': conda)"
  },
  "interpreter": {
   "hash": "36e8f8b551ed712c0a76415197cfb0cf1d4af6d4fed25de2c5812d03f2a292b6"
  }
 },
 "nbformat": 4,
 "nbformat_minor": 2
}