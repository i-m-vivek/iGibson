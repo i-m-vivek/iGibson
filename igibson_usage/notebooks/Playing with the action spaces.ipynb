{
 "cells": [
  {
   "cell_type": "code",
   "execution_count": 1,
   "id": "332b0448",
   "metadata": {},
   "outputs": [],
   "source": [
    "import numpy as np"
   ]
  },
  {
   "cell_type": "code",
   "execution_count": 2,
   "id": "e5bee948",
   "metadata": {},
   "outputs": [],
   "source": [
    "action_dim = 10\n",
    "min_action = -1\n",
    "max_action = 1\n",
    "division= 100 "
   ]
  },
  {
   "cell_type": "code",
   "execution_count": 3,
   "id": "8e93b529",
   "metadata": {},
   "outputs": [],
   "source": [
    "all_actions = []\n",
    "forward = np.linspace(min_action, max_action, division)\n",
    "backward = np.linspace(max_action, min_action, division)\n",
    "to_apply = np.concatenate((forward, backward))\n",
    "for i in range(action_dim):\n",
    "    actions = np.zeros((2*division, action_dim))\n",
    "    actions[:, i] = to_apply\n",
    "    all_actions.append(actions)"
   ]
  },
  {
   "cell_type": "code",
   "execution_count": 4,
   "id": "f1136d98",
   "metadata": {},
   "outputs": [],
   "source": [
    "all_actions = np.concatenate(all_actions)"
   ]
  },
  {
   "cell_type": "code",
   "execution_count": 5,
   "id": "ef0420ee",
   "metadata": {},
   "outputs": [],
   "source": [
    "all_actions = all_actions.astype(np.float32)"
   ]
  },
  {
   "cell_type": "code",
   "execution_count": 8,
   "id": "df6907a8",
   "metadata": {},
   "outputs": [],
   "source": [
    "all_actions= all_actions.tolist()"
   ]
  },
  {
   "cell_type": "code",
   "execution_count": 9,
   "id": "20eb4563",
   "metadata": {},
   "outputs": [
    {
     "data": {
      "text/plain": [
       "2000"
      ]
     },
     "execution_count": 9,
     "metadata": {},
     "output_type": "execute_result"
    }
   ],
   "source": [
    "len(all_actions)"
   ]
  },
  {
   "cell_type": "code",
   "execution_count": 10,
   "id": "a1cf7e50",
   "metadata": {},
   "outputs": [
    {
     "data": {
      "text/plain": [
       "[-0.8181818127632141, 0.0, 0.0, 0.0, 0.0, 0.0, 0.0, 0.0, 0.0, 0.0]"
      ]
     },
     "execution_count": 10,
     "metadata": {},
     "output_type": "execute_result"
    }
   ],
   "source": [
    "all_actions[9]"
   ]
  },
  {
   "cell_type": "code",
   "execution_count": null,
   "id": "04e34838",
   "metadata": {},
   "outputs": [],
   "source": [
    "np.random."
   ]
  }
 ],
 "metadata": {
  "kernelspec": {
   "display_name": "Python 3",
   "language": "python",
   "name": "python3"
  },
  "language_info": {
   "codemirror_mode": {
    "name": "ipython",
    "version": 3
   },
   "file_extension": ".py",
   "mimetype": "text/x-python",
   "name": "python",
   "nbconvert_exporter": "python",
   "pygments_lexer": "ipython3",
   "version": "3.6.13"
  }
 },
 "nbformat": 4,
 "nbformat_minor": 5
}
