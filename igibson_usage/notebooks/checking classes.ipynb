{
 "cells": [
  {
   "cell_type": "code",
   "execution_count": 5,
   "id": "51382ad1",
   "metadata": {},
   "outputs": [],
   "source": [
    "class Dog:\n",
    "    def print_f(self):\n",
    "        print(\"I am a dog\")\n",
    "    def bark(self):\n",
    "        print(\"Bauh, Bauh!\")"
   ]
  },
  {
   "cell_type": "code",
   "execution_count": 6,
   "id": "8f20bfdc",
   "metadata": {},
   "outputs": [],
   "source": [
    "class Cat(Dog):\n",
    "    def print_f(self):\n",
    "        print(\"I am a cat\")"
   ]
  },
  {
   "cell_type": "code",
   "execution_count": 7,
   "id": "bd959b17",
   "metadata": {},
   "outputs": [],
   "source": [
    "c_obj = Cat()"
   ]
  },
  {
   "cell_type": "code",
   "execution_count": 8,
   "id": "b2124284",
   "metadata": {},
   "outputs": [
    {
     "name": "stdout",
     "output_type": "stream",
     "text": [
      "I am a cat\n"
     ]
    }
   ],
   "source": [
    "c_obj.print_f()"
   ]
  },
  {
   "cell_type": "code",
   "execution_count": 9,
   "id": "e9958080",
   "metadata": {},
   "outputs": [
    {
     "name": "stdout",
     "output_type": "stream",
     "text": [
      "Bauh, Bauh!\n"
     ]
    }
   ],
   "source": [
    "c_obj.bark()"
   ]
  },
  {
   "cell_type": "code",
   "execution_count": null,
   "id": "5d63ef00",
   "metadata": {},
   "outputs": [],
   "source": []
  }
 ],
 "metadata": {
  "kernelspec": {
   "display_name": "Python 3",
   "language": "python",
   "name": "python3"
  },
  "language_info": {
   "codemirror_mode": {
    "name": "ipython",
    "version": 3
   },
   "file_extension": ".py",
   "mimetype": "text/x-python",
   "name": "python",
   "nbconvert_exporter": "python",
   "pygments_lexer": "ipython3",
   "version": "3.7.10"
  }
 },
 "nbformat": 4,
 "nbformat_minor": 5
}
