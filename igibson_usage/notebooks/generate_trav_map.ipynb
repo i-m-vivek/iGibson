{
 "cells": [
  {
   "cell_type": "code",
   "execution_count": 1,
   "metadata": {},
   "outputs": [
    {
     "name": "stderr",
     "output_type": "stream",
     "text": [
      "INFO:root:Importing iGibson (gibson2 module)\n",
      "INFO:root:Assets path: /home/vkmittal14/WORKSPACE/TUD/vk_igibson/iGibson/gibson2/data/assets\n",
      "INFO:root:Gibson Dataset path: /home/vkmittal14/WORKSPACE/TUD/vk_igibson/iGibson/gibson2/data/g_dataset\n",
      "INFO:root:iG Dataset path: /home/vkmittal14/WORKSPACE/TUD/vk_igibson/iGibson/gibson2/data/ig_dataset\n",
      "INFO:root:3D-FRONT Dataset path: /home/vkmittal14/WORKSPACE/TUD/vk_igibson/iGibson/gibson2/data/threedfront_dataset\n",
      "INFO:root:CubiCasa5K Dataset path: /home/vkmittal14/WORKSPACE/TUD/vk_igibson/iGibson/gibson2/data/cubicasa_dataset\n",
      "INFO:root:Example path: /home/vkmittal14/WORKSPACE/TUD/vk_igibson/iGibson/gibson2/examples\n",
      "INFO:root:Example config path: /home/vkmittal14/WORKSPACE/TUD/vk_igibson/iGibson/gibson2/examples/configs\n"
     ]
    }
   ],
   "source": [
    "from gibson2.robots.tiago_single_robot import Tiago_Single\n",
    "from gibson2.scenes.stadium_scene import StadiumScene\n",
    "from gibson2.scenes.empty_scene import EmptyScene\n",
    "from gibson2.scenes.empty_table_scene import EmptyTableScene\n",
    "from gibson2.render.mesh_renderer.mesh_renderer_settings import MeshRendererSettings\n",
    "from gibson2.simulator import Simulator\n",
    "import numpy as np\n",
    "import os\n",
    "from gibson2.utils.utils import parse_config\n",
    "import gibson2\n",
    "from gibson2.objects.articulated_object import ArticulatedObject\n"
   ]
  },
  {
   "cell_type": "code",
   "execution_count": 2,
   "metadata": {},
   "outputs": [],
   "source": [
    "config = parse_config(\n",
    "    os.path.join(\n",
    "        \"../configs\",\n",
    "        \"tiago_stadium_config.yaml\",\n",
    "    )\n",
    ")"
   ]
  },
  {
   "cell_type": "code",
   "execution_count": 3,
   "metadata": {},
   "outputs": [
    {
     "name": "stderr",
     "output_type": "stream",
     "text": [
      "INFO:root:Device 0 is available for rendering\n",
      "INFO:root:Command '['/home/vkmittal14/WORKSPACE/TUD/vk_igibson/iGibson/gibson2/render/mesh_renderer/build/test_device', '1']' returned non-zero exit status 1.\n",
      "INFO:root:Device 1 is not available for rendering\n",
      "INFO:root:Using device 0 for rendering\n"
     ]
    },
    {
     "name": "stdout",
     "output_type": "stream",
     "text": [
      "******************PyBullet Logging Information:\n",
      "PyBullet Logging Information******************\n"
     ]
    },
    {
     "name": "stderr",
     "output_type": "stream",
     "text": [
      "INFO:root:Loading /home/vkmittal14/WORKSPACE/TUD/vk_igibson/iGibson/gibson2/data/assets/models/mjcf_primitives/cube.obj\n",
      "INFO:root:Loading /home/vkmittal14/WORKSPACE/TUD/vk_igibson/iGibson/gibson2/data/assets/models/mjcf_primitives/sphere8.obj\n"
     ]
    }
   ],
   "source": [
    "settings = MeshRendererSettings(\n",
    "    enable_shadow=False, msaa=False, enable_pbr=True, texture_scale=1.0\n",
    ")\n",
    "s = Simulator(\n",
    "    mode=\"gui\",\n",
    "    image_width=128,\n",
    "    image_height=128,\n",
    "    vertical_fov=90,\n",
    "    rendering_settings=settings,\n",
    "    physics_timestep=1 / 240.0,\n",
    "    render_timestep=1 / 10.0,\n",
    "    render_to_tensor=False,\n",
    ")"
   ]
  },
  {
   "cell_type": "code",
   "execution_count": 4,
   "metadata": {},
   "outputs": [
    {
     "name": "stderr",
     "output_type": "stream",
     "text": [
      "INFO:root:Loading robot model file: tiago/tiago_single.urdf\n",
      "INFO:root:Loading /home/vkmittal14/WORKSPACE/TUD/vk_igibson/iGibson/gibson2/data/ig_dataset/objects/table/9ad91992184e2b3e283b00891f680579/shape/visual/9ad91992184e2b3e283b00891f680579_m1_vm.obj\n",
      "/home/vkmittal14/WORKSPACE/TUD/vk_igibson/iGibson/gibson2/render/mesh_renderer/mesh_renderer_cpu.py:464: RuntimeWarning: divide by zero encountered in true_divide\n",
      "  delta_uv1[:, 1] * delta_uv2[:, 0])\n",
      "/home/vkmittal14/WORKSPACE/TUD/vk_igibson/iGibson/gibson2/render/mesh_renderer/mesh_renderer_cpu.py:466: RuntimeWarning: invalid value encountered in multiply\n",
      "  delta_pos2 * delta_uv1[:, 1][:, None]) * r[:, None]\n",
      "/home/vkmittal14/WORKSPACE/TUD/vk_igibson/iGibson/gibson2/render/mesh_renderer/mesh_renderer_cpu.py:468: RuntimeWarning: invalid value encountered in multiply\n",
      "  delta_pos1 * delta_uv2[:, 0][:, None]) * r[:, None]\n",
      "INFO:root:Loading /home/vkmittal14/WORKSPACE/TUD/vk_igibson/iGibson/gibson2/data/ig_dataset/objects/table/9ad91992184e2b3e283b00891f680579/shape/visual/9ad91992184e2b3e283b00891f680579_m2_vm.obj\n"
     ]
    },
    {
     "data": {
      "text/plain": [
       "2"
      ]
     },
     "execution_count": 4,
     "metadata": {},
     "output_type": "execute_result"
    }
   ],
   "source": [
    "scene = EmptyScene()\n",
    "table_path = \"/home/vkmittal14/WORKSPACE/TUD/vk_igibson/iGibson/gibson2/data/ig_dataset/objects/table/9ad91992184e2b3e283b00891f680579/9ad91992184e2b3e283b00891f680579.urdf\"\n",
    "table = ArticulatedObject(table_path, 2)\n",
    "table.load()\n",
    "table.set_position([2, 0, 0.3])\n",
    "myrobot = Tiago_Single(config)\n",
    "s.import_scene(scene, load_texture=False)\n",
    "s.import_object(table)"
   ]
  },
  {
   "cell_type": "markdown",
   "metadata": {},
   "source": []
  },
  {
   "cell_type": "code",
   "execution_count": 5,
   "metadata": {},
   "outputs": [
    {
     "data": {
      "text/plain": [
       "(array([[-0.01      , -0.01      ,  0.        ],\n",
       "        [ 0.01      , -0.01      ,  0.        ],\n",
       "        [-0.01      ,  0.01      ,  0.        ],\n",
       "        ...,\n",
       "        [ 2.52135801, -0.54470003,  0.041294  ],\n",
       "        [ 2.52009398, -0.54405999,  0.03570201],\n",
       "        [ 2.52326798, -0.54496598,  0.03556   ]]),\n",
       " array([[    0,     1,     2],\n",
       "        [    3,     4,     5],\n",
       "        [    6,     7,     8],\n",
       "        ...,\n",
       "        [32553, 32554, 32555],\n",
       "        [32556, 32557, 32558],\n",
       "        [32559, 32560, 32561]]))"
      ]
     },
     "execution_count": 5,
     "metadata": {},
     "output_type": "execute_result"
    }
   ],
   "source": [
    "s.renderer.dump()"
   ]
  },
  {
   "cell_type": "code",
   "execution_count": 5,
   "metadata": {},
   "outputs": [],
   "source": [
    "for i in range(20):\n",
    "    s.step()"
   ]
  },
  {
   "cell_type": "markdown",
   "metadata": {},
   "source": []
  },
  {
   "cell_type": "code",
   "execution_count": 6,
   "metadata": {},
   "outputs": [],
   "source": [
    "vertices_info, faces_info = s.renderer.dump()"
   ]
  },
  {
   "cell_type": "code",
   "execution_count": 7,
   "metadata": {},
   "outputs": [
    {
     "name": "stdout",
     "output_type": "stream",
     "text": [
      "******************PyBullet Logging Information:\n",
      "PyBullet Logging Information******************\n"
     ]
    }
   ],
   "source": [
    "s.disconnect()"
   ]
  },
  {
   "cell_type": "code",
   "execution_count": 8,
   "metadata": {},
   "outputs": [],
   "source": [
    "trav_map_filename_format = 'floor_trav_tabletop_{}.png'\n",
    "obstacle_map_filename_format = 'floor_tabletop_{}.png'"
   ]
  },
  {
   "cell_type": "code",
   "execution_count": 9,
   "metadata": {},
   "outputs": [],
   "source": [
    "from gibson2.utils.map_utils import gen_trav_map\n"
   ]
  },
  {
   "cell_type": "code",
   "execution_count": 10,
   "metadata": {},
   "outputs": [
    {
     "name": "stderr",
     "output_type": "stream",
     "text": [
      "100%|██████████| 10854/10854 [00:00<00:00, 25790.05it/s]\n",
      "100%|██████████| 10854/10854 [00:00<00:00, 25421.19it/s]\n"
     ]
    },
    {
     "name": "stdout",
     "output_type": "stream",
     "text": [
      "[0.0]\n"
     ]
    },
    {
     "name": "stderr",
     "output_type": "stream",
     "text": [
      "100%|██████████| 10854/10854 [00:00<00:00, 75976.13it/s]\n"
     ]
    }
   ],
   "source": [
    "gen_trav_map(\n",
    "    vertices_info,\n",
    "    faces_info,\n",
    "    output_folder=\"/home/vkmittal14/WORKSPACE/TUD/vk_igibson/iGibson/igibson_usage\",\n",
    "    trav_map_filename_format=trav_map_filename_format,\n",
    "    obstacle_map_filename_format=obstacle_map_filename_format,\n",
    ")\n"
   ]
  },
  {
   "cell_type": "code",
   "execution_count": null,
   "metadata": {},
   "outputs": [],
   "source": []
  }
 ],
 "metadata": {
  "interpreter": {
   "hash": "054d6cd659cba7c8f2398505a0b850d809801819999e31a663a0536dae2f73d5"
  },
  "kernelspec": {
   "display_name": "Python 3.7.10 64-bit ('vk-igibson': conda)",
   "name": "python3"
  },
  "language_info": {
   "codemirror_mode": {
    "name": "ipython",
    "version": 3
   },
   "file_extension": ".py",
   "mimetype": "text/x-python",
   "name": "python",
   "nbconvert_exporter": "python",
   "pygments_lexer": "ipython3",
   "version": "3.7.10"
  },
  "orig_nbformat": 4
 },
 "nbformat": 4,
 "nbformat_minor": 2
}
