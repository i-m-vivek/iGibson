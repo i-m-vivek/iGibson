{
 "cells": [
  {
   "cell_type": "code",
   "execution_count": 1,
   "source": [
    "from gibson2.robots.turtlebot_robot import Turtlebot\n",
    "from gibson2.robots.fetch_robot import Fetch\n",
    "from gibson2.robots.freight_robot import Freight\n",
    "\n",
    "# from gibson2.robots.locobot_robot import locobot_robot\n",
    "from gibson2.robots.tiago_single_robot import Tiago_Single\n",
    "\n",
    "# from gibson2.robots.tia\n",
    "from gibson2.simulator import Simulator\n",
    "from gibson2.scenes.stadium_scene import StadiumScene\n",
    "\n",
    "# from gibson2.scenes.gibson_indoor_scene import StaticIndoorScene\n",
    "from gibson2.objects.ycb_object import YCBObject\n",
    "from gibson2.utils.utils import parse_config\n",
    "from gibson2.render.mesh_renderer.mesh_renderer_settings import MeshRendererSettings\n",
    "import numpy as np\n",
    "from gibson2.render.profiler import Profiler\n",
    "import gibson2\n",
    "import os\n",
    "from pprint import pprint"
   ],
   "outputs": [
    {
     "output_type": "stream",
     "name": "stderr",
     "text": [
      "INFO:root:Importing iGibson (gibson2 module)\n",
      "INFO:root:Assets path: /home/vkmittal14/WORKSPACE/TUD/vk_igibson/iGibson/gibson2/data/assets\n",
      "INFO:root:Gibson Dataset path: /home/vkmittal14/WORKSPACE/TUD/vk_igibson/iGibson/gibson2/data/g_dataset\n",
      "INFO:root:iG Dataset path: /home/vkmittal14/WORKSPACE/TUD/vk_igibson/iGibson/gibson2/data/ig_dataset\n",
      "INFO:root:3D-FRONT Dataset path: /home/vkmittal14/WORKSPACE/TUD/vk_igibson/iGibson/gibson2/data/threedfront_dataset\n",
      "INFO:root:CubiCasa5K Dataset path: /home/vkmittal14/WORKSPACE/TUD/vk_igibson/iGibson/gibson2/data/cubicasa_dataset\n",
      "INFO:root:Example path: /home/vkmittal14/WORKSPACE/TUD/vk_igibson/iGibson/gibson2/examples\n",
      "INFO:root:Example config path: /home/vkmittal14/WORKSPACE/TUD/vk_igibson/iGibson/gibson2/examples/configs\n"
     ]
    }
   ],
   "metadata": {}
  },
  {
   "cell_type": "code",
   "execution_count": 2,
   "source": [
    "fetch_config = parse_config(\n",
    "    os.path.join(gibson2.example_config_path, \"fetch_reaching.yaml\")\n",
    ")\n",
    "\n",
    "settings = MeshRendererSettings(\n",
    "    enable_shadow=False, msaa=False, enable_pbr=True, texture_scale=1.0\n",
    ")\n",
    "s = Simulator(\n",
    "    mode=\"headless\",\n",
    "    image_width=128,\n",
    "    image_height=128,\n",
    "    vertical_fov=90,\n",
    "    rendering_settings=settings,\n",
    "    physics_timestep=1 / 240.0,\n",
    "    render_timestep=1 / 10.0,\n",
    "    render_to_tensor=False,\n",
    ")"
   ],
   "outputs": [
    {
     "output_type": "stream",
     "name": "stderr",
     "text": [
      "INFO:root:Device 0 is available for rendering\n",
      "INFO:root:Command '['/home/vkmittal14/WORKSPACE/TUD/vk_igibson/iGibson/gibson2/render/mesh_renderer/build/test_device', '1']' returned non-zero exit status 1.\n",
      "INFO:root:Device 1 is not available for rendering\n",
      "INFO:root:Using device 0 for rendering\n"
     ]
    },
    {
     "output_type": "stream",
     "name": "stdout",
     "text": [
      "******************PyBullet Logging Information:\n",
      "PyBullet Logging Information******************\n"
     ]
    }
   ],
   "metadata": {}
  },
  {
   "cell_type": "code",
   "execution_count": 3,
   "source": [
    "scene = StadiumScene()\n",
    "s.import_scene(scene, load_texture=False)"
   ],
   "outputs": [
    {
     "output_type": "stream",
     "name": "stderr",
     "text": [
      "INFO:root:Loading /home/vkmittal14/miniconda3/envs/vk-igibson/lib/python3.7/site-packages/pybullet_data/roboschool/models_outdoor/stadium/part0.obj\n",
      "INFO:root:Loading /home/vkmittal14/miniconda3/envs/vk-igibson/lib/python3.7/site-packages/pybullet_data/roboschool/models_outdoor/stadium/part1.obj\n",
      "INFO:root:Loading /home/vkmittal14/miniconda3/envs/vk-igibson/lib/python3.7/site-packages/pybullet_data/roboschool/models_outdoor/stadium/part2.obj\n"
     ]
    },
    {
     "output_type": "execute_result",
     "data": {
      "text/plain": [
       "[0, 1, 2, 3]"
      ]
     },
     "metadata": {},
     "execution_count": 3
    }
   ],
   "metadata": {}
  },
  {
   "cell_type": "code",
   "execution_count": null,
   "source": [],
   "outputs": [],
   "metadata": {}
  },
  {
   "cell_type": "code",
   "execution_count": 4,
   "source": [
    "config_filename = os.path.join(\"/home/vkmittal14/WORKSPACE/TUD/vk_igibson/iGibson/igibson_usage/configs/exp_config.yaml\")\n",
    "tiago_config = parse_config(config_filename)"
   ],
   "outputs": [],
   "metadata": {}
  },
  {
   "cell_type": "code",
   "execution_count": 5,
   "source": [
    "my_robot2 = Tiago_Single(tiago_config)\n",
    "# my_robot2 = Fetch(fetch_config)\n",
    "s.import_robot(my_robot2)"
   ],
   "outputs": [
    {
     "output_type": "stream",
     "name": "stderr",
     "text": [
      "INFO:root:Loading robot model file: tiago/tiago_single.urdf\n",
      "INFO:root:Loading /home/vkmittal14/WORKSPACE/TUD/vk_igibson/iGibson/gibson2/data/assets/models/tiago/pmb2_description/meshes/base/base.stl\n",
      "INFO:root:Loading /home/vkmittal14/WORKSPACE/TUD/vk_igibson/iGibson/gibson2/data/assets/models/tiago/pmb2_description/meshes/sensors/sick_tim551.stl\n",
      "INFO:root:Loading /home/vkmittal14/WORKSPACE/TUD/vk_igibson/iGibson/gibson2/data/assets/models/tiago/pmb2_description/meshes/sensors/srf05.stl\n",
      "INFO:root:Loading /home/vkmittal14/WORKSPACE/TUD/vk_igibson/iGibson/gibson2/data/assets/models/tiago/pmb2_description/meshes/objects/antenna.stl\n",
      "INFO:root:Loading /home/vkmittal14/WORKSPACE/TUD/vk_igibson/iGibson/gibson2/data/assets/models/tiago/pmb2_description/meshes/wheels/wheel.stl\n",
      "INFO:root:Loading /home/vkmittal14/WORKSPACE/TUD/vk_igibson/iGibson/gibson2/data/assets/models/tiago/pmb2_description/meshes/wheels/wheel.stl\n",
      "INFO:root:Loading /home/vkmittal14/WORKSPACE/TUD/vk_igibson/iGibson/gibson2/data/assets/models/tiago/pmb2_description/meshes/wheels/caster_1.stl\n",
      "INFO:root:Loading /home/vkmittal14/WORKSPACE/TUD/vk_igibson/iGibson/gibson2/data/assets/models/tiago/pmb2_description/meshes/wheels/caster_2.stl\n",
      "INFO:root:Loading /home/vkmittal14/WORKSPACE/TUD/vk_igibson/iGibson/gibson2/data/assets/models/tiago/tiago_description/meshes/torso/torso_fix.stl\n",
      "INFO:root:Loading /home/vkmittal14/WORKSPACE/TUD/vk_igibson/iGibson/gibson2/data/assets/models/tiago/tiago_description/meshes/torso/torso_lift_with_arm.stl\n",
      "INFO:root:Loading /home/vkmittal14/WORKSPACE/TUD/vk_igibson/iGibson/gibson2/data/assets/models/tiago/tiago_description/meshes/head/head_1.stl\n",
      "INFO:root:Loading /home/vkmittal14/WORKSPACE/TUD/vk_igibson/iGibson/gibson2/data/assets/models/tiago/tiago_description/meshes/head/head_2.stl\n",
      "INFO:root:Loading /home/vkmittal14/WORKSPACE/TUD/vk_igibson/iGibson/gibson2/data/assets/models/tiago/tiago_description/meshes/arm/arm_1.stl\n",
      "INFO:root:Loading /home/vkmittal14/WORKSPACE/TUD/vk_igibson/iGibson/gibson2/data/assets/models/tiago/tiago_description/meshes/arm/arm_2.stl\n",
      "INFO:root:Loading /home/vkmittal14/WORKSPACE/TUD/vk_igibson/iGibson/gibson2/data/assets/models/tiago/tiago_description/meshes/arm/arm_3.stl\n",
      "INFO:root:Loading /home/vkmittal14/WORKSPACE/TUD/vk_igibson/iGibson/gibson2/data/assets/models/tiago/tiago_description/meshes/arm/arm_4.stl\n",
      "INFO:root:Loading /home/vkmittal14/WORKSPACE/TUD/vk_igibson/iGibson/gibson2/data/assets/models/tiago/tiago_description/meshes/arm/arm_5-wrist-2017.stl\n",
      "INFO:root:Loading /home/vkmittal14/WORKSPACE/TUD/vk_igibson/iGibson/gibson2/data/assets/models/tiago/tiago_description/meshes/arm/arm_6-wrist-2017.stl\n",
      "INFO:root:Loading /home/vkmittal14/WORKSPACE/TUD/vk_igibson/iGibson/gibson2/data/assets/models/mjcf_primitives/cube.obj\n",
      "INFO:root:Loading /home/vkmittal14/WORKSPACE/TUD/vk_igibson/iGibson/gibson2/data/assets/models/mjcf_primitives/cube.obj\n",
      "INFO:root:Loading /home/vkmittal14/WORKSPACE/TUD/vk_igibson/iGibson/gibson2/data/assets/models/mjcf_primitives/cube.obj\n",
      "INFO:root:Loading /home/vkmittal14/WORKSPACE/TUD/vk_igibson/iGibson/gibson2/data/assets/models/tiago/pal_gripper_description/meshes/gripper_link.stl\n",
      "INFO:root:Loading /home/vkmittal14/WORKSPACE/TUD/vk_igibson/iGibson/gibson2/data/assets/models/tiago/pal_gripper_description/meshes/gripper_finger_link.stl\n",
      "INFO:root:Loading /home/vkmittal14/WORKSPACE/TUD/vk_igibson/iGibson/gibson2/data/assets/models/tiago/pal_gripper_description/meshes/gripper_finger_link.stl\n",
      "INFO:root:Loading /home/vkmittal14/WORKSPACE/TUD/vk_igibson/iGibson/gibson2/data/assets/models/mjcf_primitives/cube.obj\n",
      "INFO:root:Loading /home/vkmittal14/WORKSPACE/TUD/vk_igibson/iGibson/gibson2/data/assets/models/tiago/pmb2_description/meshes/base/base_ring.stl\n"
     ]
    },
    {
     "output_type": "execute_result",
     "data": {
      "text/plain": [
       "(4,)"
      ]
     },
     "metadata": {},
     "execution_count": 5
    }
   ],
   "metadata": {
    "scrolled": true
   }
  },
  {
   "cell_type": "code",
   "execution_count": 14,
   "source": [
    "import pybullet as p"
   ],
   "outputs": [],
   "metadata": {}
  },
  {
   "cell_type": "code",
   "execution_count": 22,
   "source": [
    "p.getLinkState(4, 38)"
   ],
   "outputs": [
    {
     "output_type": "execute_result",
     "data": {
      "text/plain": [
       "((0.10968900000240078, -0.33469399999997623, 0.7139179999993569),\n",
       " (-0.49999999999755174, -0.5, -0.49999999999755174, 0.5000000000048965),\n",
       " (0.007418, -0.004361, -0.134194),\n",
       " (0.0, 0.0, 0.0, 1.0),\n",
       " (0.1140500009059906, -0.2004999965429306, 0.7064999938011169),\n",
       " (0.5, 0.5, 0.5, -0.5))"
      ]
     },
     "metadata": {},
     "execution_count": 22
    }
   ],
   "metadata": {}
  },
  {
   "cell_type": "code",
   "execution_count": 21,
   "source": [
    "my_robot2.parts[\"arm_2_link\"].get_position()"
   ],
   "outputs": [
    {
     "output_type": "execute_result",
     "data": {
      "text/plain": [
       "array([ 0.11255   , -0.111     ,  0.70649999])"
      ]
     },
     "metadata": {},
     "execution_count": 21
    }
   ],
   "metadata": {}
  },
  {
   "cell_type": "code",
   "execution_count": 29,
   "source": [
    "list(my_robot2.parts.keys())[26]"
   ],
   "outputs": [
    {
     "output_type": "execute_result",
     "data": {
      "text/plain": [
       "'torso_lift_link'"
      ]
     },
     "metadata": {},
     "execution_count": 29
    }
   ],
   "metadata": {
    "scrolled": true
   }
  },
  {
   "cell_type": "code",
   "execution_count": 30,
   "source": [
    "list(my_robot2.parts.keys())[38]"
   ],
   "outputs": [
    {
     "output_type": "execute_result",
     "data": {
      "text/plain": [
       "'arm_2_link'"
      ]
     },
     "metadata": {},
     "execution_count": 30
    }
   ],
   "metadata": {}
  },
  {
   "cell_type": "code",
   "execution_count": 31,
   "source": [
    "list(my_robot2.parts.keys())[52]"
   ],
   "outputs": [
    {
     "output_type": "execute_result",
     "data": {
      "text/plain": [
       "'torso_fixed_column_link'"
      ]
     },
     "metadata": {},
     "execution_count": 31
    }
   ],
   "metadata": {}
  },
  {
   "cell_type": "code",
   "execution_count": 32,
   "source": [
    "list(my_robot2.parts.keys())[37]"
   ],
   "outputs": [
    {
     "output_type": "execute_result",
     "data": {
      "text/plain": [
       "'arm_1_link'"
      ]
     },
     "metadata": {},
     "execution_count": 32
    }
   ],
   "metadata": {}
  },
  {
   "cell_type": "code",
   "execution_count": 33,
   "source": [
    "list(my_robot2.parts.keys())[39]"
   ],
   "outputs": [
    {
     "output_type": "execute_result",
     "data": {
      "text/plain": [
       "'arm_3_link'"
      ]
     },
     "metadata": {},
     "execution_count": 33
    }
   ],
   "metadata": {}
  },
  {
   "cell_type": "code",
   "execution_count": 34,
   "source": [
    "list(my_robot2.parts.keys())[25]"
   ],
   "outputs": [
    {
     "output_type": "execute_result",
     "data": {
      "text/plain": [
       "'torso_fixed_link'"
      ]
     },
     "metadata": {},
     "execution_count": 34
    }
   ],
   "metadata": {}
  },
  {
   "cell_type": "code",
   "execution_count": 13,
   "source": [
    "p.getContactPoints(bodyA=2)"
   ],
   "outputs": [
    {
     "output_type": "execute_result",
     "data": {
      "text/plain": [
       "()"
      ]
     },
     "metadata": {},
     "execution_count": 13
    }
   ],
   "metadata": {}
  },
  {
   "cell_type": "code",
   "execution_count": 7,
   "source": [
    "s.step()"
   ],
   "outputs": [],
   "metadata": {}
  },
  {
   "cell_type": "code",
   "execution_count": 1,
   "source": [
    "for j in my_robot2.ordered_joints:\n",
    "    print(j.joint_name, \"\\t\" ,j.max_velocity, \"\\t\", j.lower_limit, \"\\t\", j.upper_limit)\n",
    "# my_robot2.ordered_joints[0].joint_name"
   ],
   "outputs": [
    {
     "output_type": "error",
     "ename": "NameError",
     "evalue": "name 'my_robot2' is not defined",
     "traceback": [
      "\u001b[0;31m---------------------------------------------------------------------------\u001b[0m",
      "\u001b[0;31mNameError\u001b[0m                                 Traceback (most recent call last)",
      "\u001b[0;32m<ipython-input-1-7b2d5a6cdd0d>\u001b[0m in \u001b[0;36m<module>\u001b[0;34m\u001b[0m\n\u001b[0;32m----> 1\u001b[0;31m \u001b[0;32mfor\u001b[0m \u001b[0mj\u001b[0m \u001b[0;32min\u001b[0m \u001b[0mmy_robot2\u001b[0m\u001b[0;34m.\u001b[0m\u001b[0mordered_joints\u001b[0m\u001b[0;34m:\u001b[0m\u001b[0;34m\u001b[0m\u001b[0;34m\u001b[0m\u001b[0m\n\u001b[0m\u001b[1;32m      2\u001b[0m     \u001b[0mprint\u001b[0m\u001b[0;34m(\u001b[0m\u001b[0mj\u001b[0m\u001b[0;34m.\u001b[0m\u001b[0mjoint_name\u001b[0m\u001b[0;34m,\u001b[0m \u001b[0;34m\"\\t\"\u001b[0m \u001b[0;34m,\u001b[0m\u001b[0mj\u001b[0m\u001b[0;34m.\u001b[0m\u001b[0mmax_velocity\u001b[0m\u001b[0;34m,\u001b[0m \u001b[0;34m\"\\t\"\u001b[0m\u001b[0;34m,\u001b[0m \u001b[0mj\u001b[0m\u001b[0;34m.\u001b[0m\u001b[0mlower_limit\u001b[0m\u001b[0;34m,\u001b[0m \u001b[0;34m\"\\t\"\u001b[0m\u001b[0;34m,\u001b[0m \u001b[0mj\u001b[0m\u001b[0;34m.\u001b[0m\u001b[0mupper_limit\u001b[0m\u001b[0;34m)\u001b[0m\u001b[0;34m\u001b[0m\u001b[0;34m\u001b[0m\u001b[0m\n\u001b[1;32m      3\u001b[0m \u001b[0;31m# my_robot2.ordered_joints[0].joint_name\u001b[0m\u001b[0;34m\u001b[0m\u001b[0;34m\u001b[0m\u001b[0;34m\u001b[0m\u001b[0m\n",
      "\u001b[0;31mNameError\u001b[0m: name 'my_robot2' is not defined"
     ]
    }
   ],
   "metadata": {}
  },
  {
   "cell_type": "code",
   "execution_count": 2,
   "source": [
    "my_robot2.base_name"
   ],
   "outputs": [
    {
     "output_type": "error",
     "ename": "NameError",
     "evalue": "name 'my_robot2' is not defined",
     "traceback": [
      "\u001b[0;31m---------------------------------------------------------------------------\u001b[0m",
      "\u001b[0;31mNameError\u001b[0m                                 Traceback (most recent call last)",
      "\u001b[0;32m<ipython-input-2-fccda79c1b65>\u001b[0m in \u001b[0;36m<module>\u001b[0;34m\u001b[0m\n\u001b[0;32m----> 1\u001b[0;31m \u001b[0mmy_robot2\u001b[0m\u001b[0;34m.\u001b[0m\u001b[0mbase_name\u001b[0m\u001b[0;34m\u001b[0m\u001b[0;34m\u001b[0m\u001b[0m\n\u001b[0m",
      "\u001b[0;31mNameError\u001b[0m: name 'my_robot2' is not defined"
     ]
    }
   ],
   "metadata": {}
  },
  {
   "cell_type": "code",
   "execution_count": 3,
   "source": [
    "for k in (my_robot2.parts.keys()):\n",
    "    print(k)"
   ],
   "outputs": [
    {
     "output_type": "error",
     "ename": "NameError",
     "evalue": "name 'my_robot2' is not defined",
     "traceback": [
      "\u001b[0;31m---------------------------------------------------------------------------\u001b[0m",
      "\u001b[0;31mNameError\u001b[0m                                 Traceback (most recent call last)",
      "\u001b[0;32m<ipython-input-3-561b4585321c>\u001b[0m in \u001b[0;36m<module>\u001b[0;34m\u001b[0m\n\u001b[0;32m----> 1\u001b[0;31m \u001b[0;32mfor\u001b[0m \u001b[0mk\u001b[0m \u001b[0;32min\u001b[0m \u001b[0;34m(\u001b[0m\u001b[0mmy_robot2\u001b[0m\u001b[0;34m.\u001b[0m\u001b[0mparts\u001b[0m\u001b[0;34m.\u001b[0m\u001b[0mkeys\u001b[0m\u001b[0;34m(\u001b[0m\u001b[0;34m)\u001b[0m\u001b[0;34m)\u001b[0m\u001b[0;34m:\u001b[0m\u001b[0;34m\u001b[0m\u001b[0;34m\u001b[0m\u001b[0m\n\u001b[0m\u001b[1;32m      2\u001b[0m     \u001b[0mprint\u001b[0m\u001b[0;34m(\u001b[0m\u001b[0mk\u001b[0m\u001b[0;34m)\u001b[0m\u001b[0;34m\u001b[0m\u001b[0;34m\u001b[0m\u001b[0m\n",
      "\u001b[0;31mNameError\u001b[0m: name 'my_robot2' is not defined"
     ]
    }
   ],
   "metadata": {}
  },
  {
   "cell_type": "code",
   "execution_count": null,
   "source": [],
   "outputs": [],
   "metadata": {}
  },
  {
   "cell_type": "code",
   "execution_count": 6,
   "source": [
    "from gibson2.external.pybullet_tools.utils import joints_from_names, set_joint_positions, get_movable_joints\n",
    "all_joints = get_movable_joints(my_robot2.robot_ids[0])"
   ],
   "outputs": [],
   "metadata": {}
  },
  {
   "cell_type": "code",
   "execution_count": 9,
   "source": [
    "my_robot2.ordered_joints"
   ],
   "outputs": [
    {
     "output_type": "execute_result",
     "data": {
      "text/plain": [
       "[<gibson2.robots.robot_base.Joint at 0x7f349068f6d0>,\n",
       " <gibson2.robots.robot_base.Joint at 0x7f349068fb50>,\n",
       " <gibson2.robots.robot_base.Joint at 0x7f349068fe90>,\n",
       " <gibson2.robots.robot_base.Joint at 0x7f349068fd10>,\n",
       " <gibson2.robots.robot_base.Joint at 0x7f3490674190>,\n",
       " <gibson2.robots.robot_base.Joint at 0x7f3490674690>,\n",
       " <gibson2.robots.robot_base.Joint at 0x7f3490674110>,\n",
       " <gibson2.robots.robot_base.Joint at 0x7f34906747d0>,\n",
       " <gibson2.robots.robot_base.Joint at 0x7f34906748d0>,\n",
       " <gibson2.robots.robot_base.Joint at 0x7f34906749d0>,\n",
       " <gibson2.robots.robot_base.Joint at 0x7f3490674b10>,\n",
       " <gibson2.robots.robot_base.Joint at 0x7f3490674d90>,\n",
       " <gibson2.robots.robot_base.Joint at 0x7f3490674ed0>,\n",
       " <gibson2.robots.robot_base.Joint at 0x7f3490674d50>]"
      ]
     },
     "metadata": {},
     "execution_count": 9
    }
   ],
   "metadata": {}
  },
  {
   "cell_type": "code",
   "execution_count": 14,
   "source": [
    "for j in my_robot2.ordered_joints:\n",
    "    print(j.joint_name)"
   ],
   "outputs": [
    {
     "output_type": "stream",
     "name": "stdout",
     "text": [
      "wheel_right_joint\n",
      "wheel_left_joint\n",
      "torso_lift_joint\n",
      "head_1_joint\n",
      "head_2_joint\n",
      "arm_1_joint\n",
      "arm_2_joint\n",
      "arm_3_joint\n",
      "arm_4_joint\n",
      "arm_5_joint\n",
      "arm_6_joint\n",
      "arm_7_joint\n",
      "gripper_right_finger_joint\n",
      "gripper_left_finger_joint\n"
     ]
    }
   ],
   "metadata": {}
  },
  {
   "cell_type": "code",
   "execution_count": 11,
   "source": [
    "all_joints"
   ],
   "outputs": [
    {
     "output_type": "execute_result",
     "data": {
      "text/plain": [
       "[8,\n",
       " 9,\n",
       " 10,\n",
       " 11,\n",
       " 12,\n",
       " 13,\n",
       " 14,\n",
       " 15,\n",
       " 16,\n",
       " 17,\n",
       " 18,\n",
       " 19,\n",
       " 21,\n",
       " 22,\n",
       " 23,\n",
       " 31,\n",
       " 32,\n",
       " 33,\n",
       " 34,\n",
       " 35,\n",
       " 36,\n",
       " 37,\n",
       " 41,\n",
       " 42]"
      ]
     },
     "metadata": {},
     "execution_count": 11
    }
   ],
   "metadata": {}
  },
  {
   "cell_type": "code",
   "execution_count": 17,
   "source": [
    "parts= my_robot2.parts\n",
    "moving_parts = [\"arm\", \"gripper\", \"torso\", \"head\", \"wheel\"]\n",
    "problem_part_name = []\n",
    "problem_parts = []\n",
    "for part in parts:\n",
    "    flag = False\n",
    "    for x in moving_parts:\n",
    "        if x in part:\n",
    "            flag = True\n",
    "            break\n",
    "    if flag == False:\n",
    "        problem_part_name.append(part)\n",
    "        problem_parts.append(parts[part])"
   ],
   "outputs": [],
   "metadata": {}
  },
  {
   "cell_type": "code",
   "execution_count": 18,
   "source": [
    "problem_part_name"
   ],
   "outputs": [
    {
     "output_type": "execute_result",
     "data": {
      "text/plain": [
       "['base_footprint',\n",
       " 'base_link',\n",
       " 'base_laser_link',\n",
       " 'base_sonar_03_link',\n",
       " 'base_sonar_02_link',\n",
       " 'base_sonar_01_link',\n",
       " 'base_antenna_left_link',\n",
       " 'base_antenna_right_link',\n",
       " 'base_imu_link',\n",
       " 'ignore_suspension_right_link',\n",
       " 'ignore_suspension_left_link',\n",
       " 'ignore_caster_front_right_1_link',\n",
       " 'ignore_caster_front_right_2_link',\n",
       " 'ignore_caster_front_left_1_link',\n",
       " 'ignore_caster_front_left_2_link',\n",
       " 'ignore_caster_back_right_1_link',\n",
       " 'ignore_caster_back_right_2_link',\n",
       " 'ignore_caster_back_left_1_link',\n",
       " 'ignore_caster_back_left_2_link',\n",
       " 'xtion_link',\n",
       " 'xtion_optical_frame',\n",
       " 'xtion_depth_frame',\n",
       " 'xtion_depth_optical_frame',\n",
       " 'eyes',\n",
       " 'xtion_rgb_frame',\n",
       " 'xtion_rgb_optical_frame',\n",
       " 'base_cover_link']"
      ]
     },
     "metadata": {},
     "execution_count": 18
    }
   ],
   "metadata": {}
  },
  {
   "cell_type": "code",
   "execution_count": 13,
   "source": [
    "for part in parts:\n",
    "    if \"arm\" not in part:\n",
    "        print(part)"
   ],
   "outputs": [
    {
     "output_type": "stream",
     "name": "stdout",
     "text": [
      "base_footprint\n",
      "base_link\n",
      "base_laser_link\n",
      "base_sonar_03_link\n",
      "base_sonar_02_link\n",
      "base_sonar_01_link\n",
      "base_antenna_left_link\n",
      "base_antenna_right_link\n",
      "base_imu_link\n",
      "ignore_suspension_right_link\n",
      "wheel_right_link\n",
      "ignore_suspension_left_link\n",
      "wheel_left_link\n",
      "ignore_caster_front_right_1_link\n",
      "ignore_caster_front_right_2_link\n",
      "ignore_caster_front_left_1_link\n",
      "ignore_caster_front_left_2_link\n",
      "ignore_caster_back_right_1_link\n",
      "ignore_caster_back_right_2_link\n",
      "ignore_caster_back_left_1_link\n",
      "ignore_caster_back_left_2_link\n",
      "torso_fixed_link\n",
      "torso_lift_link\n",
      "head_1_link\n",
      "head_2_link\n",
      "xtion_link\n",
      "xtion_optical_frame\n",
      "xtion_depth_frame\n",
      "xtion_depth_optical_frame\n",
      "eyes\n",
      "xtion_rgb_frame\n",
      "xtion_rgb_optical_frame\n",
      "gripper_tool_link\n",
      "gripper_link\n",
      "gripper_right_finger_link\n",
      "gripper_left_finger_link\n",
      "gripper_grasping_frame\n",
      "torso_fixed_column_link\n",
      "base_cover_link\n"
     ]
    }
   ],
   "metadata": {}
  },
  {
   "cell_type": "code",
   "execution_count": 8,
   "source": [
    "my_robot2.parts.keys()"
   ],
   "outputs": [
    {
     "output_type": "execute_result",
     "data": {
      "text/plain": [
       "dict_keys(['base_footprint', 'base_link', 'base_laser_link', 'base_sonar_03_link', 'base_sonar_02_link', 'base_sonar_01_link', 'base_antenna_left_link', 'base_antenna_right_link', 'base_imu_link', 'ignore_suspension_right_link', 'wheel_right_link', 'ignore_suspension_left_link', 'wheel_left_link', 'ignore_caster_front_right_1_link', 'ignore_caster_front_right_2_link', 'ignore_caster_front_left_1_link', 'ignore_caster_front_left_2_link', 'ignore_caster_back_right_1_link', 'ignore_caster_back_right_2_link', 'ignore_caster_back_left_1_link', 'ignore_caster_back_left_2_link', 'torso_fixed_link', 'torso_lift_link', 'head_1_link', 'head_2_link', 'xtion_link', 'xtion_optical_frame', 'xtion_depth_frame', 'xtion_depth_optical_frame', 'eyes', 'xtion_rgb_frame', 'xtion_rgb_optical_frame', 'arm_1_link', 'arm_2_link', 'arm_3_link', 'arm_4_link', 'arm_5_link', 'arm_6_link', 'arm_7_link', 'arm_tool_link', 'gripper_tool_link', 'gripper_link', 'gripper_right_finger_link', 'gripper_left_finger_link', 'gripper_grasping_frame', 'torso_fixed_column_link', 'base_cover_link'])"
      ]
     },
     "metadata": {},
     "execution_count": 8
    }
   ],
   "metadata": {}
  },
  {
   "cell_type": "code",
   "execution_count": null,
   "source": [],
   "outputs": [],
   "metadata": {}
  },
  {
   "cell_type": "code",
   "execution_count": null,
   "source": [],
   "outputs": [],
   "metadata": {}
  },
  {
   "cell_type": "code",
   "execution_count": null,
   "source": [
    "my_robot2.action_space.shape[0]"
   ],
   "outputs": [],
   "metadata": {}
  },
  {
   "cell_type": "code",
   "execution_count": null,
   "source": [
    "len(my_robot2.problem_parts)"
   ],
   "outputs": [],
   "metadata": {}
  },
  {
   "cell_type": "code",
   "execution_count": null,
   "source": [
    "my_robot2.parts.keys()"
   ],
   "outputs": [],
   "metadata": {}
  },
  {
   "cell_type": "code",
   "execution_count": null,
   "source": [
    "for i in range(len(my_robot2.parts)):\n",
    "    print(my_robot2.parts[i].body_name)"
   ],
   "outputs": [],
   "metadata": {}
  },
  {
   "cell_type": "code",
   "execution_count": null,
   "source": [
    "for i in range(len(my_robot2.problem_parts)):\n",
    "    print(my_robot2.problem_parts[i].body_name)"
   ],
   "outputs": [],
   "metadata": {}
  },
  {
   "cell_type": "code",
   "execution_count": null,
   "source": [
    "def apply_action(action):\n",
    "    my_robot2.apply_action(action)\n",
    "    for i in range(50):\n",
    "        s.step()"
   ],
   "outputs": [],
   "metadata": {}
  },
  {
   "cell_type": "code",
   "execution_count": null,
   "source": [
    "apply_action(np.array([0,0, 0.1, 0, 0, 0.5, 0.4,0.8, 0, 0, 0, 0,0,0]))"
   ],
   "outputs": [],
   "metadata": {}
  },
  {
   "cell_type": "code",
   "execution_count": null,
   "source": [
    "apply_action(np.array([0,0,0,0,0,0,0,0,0,0]))"
   ],
   "outputs": [],
   "metadata": {}
  },
  {
   "cell_type": "code",
   "execution_count": null,
   "source": [
    "apply_action(np.array([0,0,0,1.2, 1.5, 1.5, -1.8, 0.5, 1.33, 0.5]))\n",
    "for i in range(100):\n",
    "    s.step()"
   ],
   "outputs": [],
   "metadata": {}
  },
  {
   "cell_type": "code",
   "execution_count": null,
   "source": [],
   "outputs": [],
   "metadata": {}
  }
 ],
 "metadata": {
  "interpreter": {
   "hash": "a6b10a49ff0eee18a8ab4c2a5a157d27a55300e764a091896ad21484d75a6d96"
  },
  "kernelspec": {
   "name": "python3",
   "display_name": "Python 3.7.10 64-bit ('vk-igibson': conda)"
  },
  "language_info": {
   "codemirror_mode": {
    "name": "ipython",
    "version": 3
   },
   "file_extension": ".py",
   "mimetype": "text/x-python",
   "name": "python",
   "nbconvert_exporter": "python",
   "pygments_lexer": "ipython3",
   "version": "3.7.10"
  }
 },
 "nbformat": 4,
 "nbformat_minor": 2
}